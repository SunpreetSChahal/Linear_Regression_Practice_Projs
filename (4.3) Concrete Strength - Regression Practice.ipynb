{
 "cells": [
  {
   "cell_type": "code",
   "execution_count": 1,
   "metadata": {},
   "outputs": [],
   "source": [
    "# Ignore Warnings\n",
    "import warnings\n",
    "warnings.simplefilter(action='ignore', category=FutureWarning)\n",
    "\n",
    "# Standard libraries\n",
    "import pandas as pd\n",
    "import numpy as np\n",
    "import matplotlib.pyplot as plt\n",
    "\n",
    "# Libraries for linear regression\n",
    "from sklearn import linear_model\n",
    "from sklearn.model_selection import train_test_split\n",
    "\n",
    "#Saving model\n",
    "import joblib "
   ]
  },
  {
   "cell_type": "code",
   "execution_count": 2,
   "metadata": {},
   "outputs": [
    {
     "data": {
      "text/html": [
       "<div>\n",
       "<style scoped>\n",
       "    .dataframe tbody tr th:only-of-type {\n",
       "        vertical-align: middle;\n",
       "    }\n",
       "\n",
       "    .dataframe tbody tr th {\n",
       "        vertical-align: top;\n",
       "    }\n",
       "\n",
       "    .dataframe thead th {\n",
       "        text-align: right;\n",
       "    }\n",
       "</style>\n",
       "<table border=\"1\" class=\"dataframe\">\n",
       "  <thead>\n",
       "    <tr style=\"text-align: right;\">\n",
       "      <th></th>\n",
       "      <th>cement</th>\n",
       "      <th>slag</th>\n",
       "      <th>flyash</th>\n",
       "      <th>water</th>\n",
       "      <th>superplasticizer</th>\n",
       "      <th>coarseaggregate</th>\n",
       "      <th>fineaggregate</th>\n",
       "      <th>age</th>\n",
       "      <th>csMPa</th>\n",
       "    </tr>\n",
       "  </thead>\n",
       "  <tbody>\n",
       "    <tr>\n",
       "      <th>0</th>\n",
       "      <td>540.0</td>\n",
       "      <td>0.0</td>\n",
       "      <td>0.0</td>\n",
       "      <td>162.0</td>\n",
       "      <td>2.5</td>\n",
       "      <td>1040.0</td>\n",
       "      <td>676.0</td>\n",
       "      <td>28</td>\n",
       "      <td>79.99</td>\n",
       "    </tr>\n",
       "    <tr>\n",
       "      <th>1</th>\n",
       "      <td>540.0</td>\n",
       "      <td>0.0</td>\n",
       "      <td>0.0</td>\n",
       "      <td>162.0</td>\n",
       "      <td>2.5</td>\n",
       "      <td>1055.0</td>\n",
       "      <td>676.0</td>\n",
       "      <td>28</td>\n",
       "      <td>61.89</td>\n",
       "    </tr>\n",
       "    <tr>\n",
       "      <th>2</th>\n",
       "      <td>332.5</td>\n",
       "      <td>142.5</td>\n",
       "      <td>0.0</td>\n",
       "      <td>228.0</td>\n",
       "      <td>0.0</td>\n",
       "      <td>932.0</td>\n",
       "      <td>594.0</td>\n",
       "      <td>270</td>\n",
       "      <td>40.27</td>\n",
       "    </tr>\n",
       "  </tbody>\n",
       "</table>\n",
       "</div>"
      ],
      "text/plain": [
       "   cement   slag  flyash  water  superplasticizer  coarseaggregate  \\\n",
       "0   540.0    0.0     0.0  162.0               2.5           1040.0   \n",
       "1   540.0    0.0     0.0  162.0               2.5           1055.0   \n",
       "2   332.5  142.5     0.0  228.0               0.0            932.0   \n",
       "\n",
       "   fineaggregate  age  csMPa  \n",
       "0          676.0   28  79.99  \n",
       "1          676.0   28  61.89  \n",
       "2          594.0  270  40.27  "
      ]
     },
     "execution_count": 2,
     "metadata": {},
     "output_type": "execute_result"
    }
   ],
   "source": [
    "df = pd.read_csv(r\"C:\\Users\\ssc44611\\Documents\\L4 Projects\\4. Regression Practice Projects - ED & ML\\Concrete Strength Regression\\Concrete_Data.csv\")\n",
    "df.head(3)"
   ]
  },
  {
   "cell_type": "code",
   "execution_count": 3,
   "metadata": {},
   "outputs": [
    {
     "name": "stdout",
     "output_type": "stream",
     "text": [
      "There are 1030 rows and 9 columns.\n"
     ]
    }
   ],
   "source": [
    "print(f\"There are {df.shape[0]} rows and {df.shape[1]} columns.\")"
   ]
  },
  {
   "cell_type": "markdown",
   "metadata": {},
   "source": [
    "## Data Manipulation"
   ]
  },
  {
   "cell_type": "code",
   "execution_count": 4,
   "metadata": {},
   "outputs": [
    {
     "name": "stdout",
     "output_type": "stream",
     "text": [
      "Columns: ['cement', 'slag', 'ash', 'water', 'splast', 'coarse', 'fine', 'age', 'strength'].\n"
     ]
    }
   ],
   "source": [
    "# Rename the columns\n",
    "df.columns = ['cement', 'slag', 'ash', 'water', 'splast', 'coarse', 'fine', 'age', 'strength']\n",
    "\n",
    "cols = list(df.columns)\n",
    "\n",
    "print(f\"Columns: {cols}.\")"
   ]
  },
  {
   "cell_type": "markdown",
   "metadata": {},
   "source": [
    "Each colunm represents "
   ]
  },
  {
   "cell_type": "markdown",
   "metadata": {},
   "source": [
    "## Data Visualisation - Base Data"
   ]
  },
  {
   "cell_type": "code",
   "execution_count": 5,
   "metadata": {},
   "outputs": [
    {
     "data": {
      "text/plain": [
       "<matplotlib.legend.Legend at 0x1a387cc85f8>"
      ]
     },
     "execution_count": 5,
     "metadata": {},
     "output_type": "execute_result"
    },
    {
     "data": {
      "image/png": "[encoded data removed]",
      "text/plain": [
       "<Figure size 1440x1080 with 8 Axes>"
      ]
     },
     "metadata": {
      "needs_background": "light"
     },
     "output_type": "display_data"
    }
   ],
   "source": [
    "# Let's see what our data looks like\n",
    "%matplotlib inline\n",
    "\n",
    "# Set graph size\n",
    "plt.figure(figsize=(20,15))\n",
    "\n",
    "#Plotting data - Cement \n",
    "plt.subplot(331)\n",
    "\n",
    "plt.scatter(df['cement'], df['strength'], color='blue', marker = '+', s=20, label = 'Cement')\n",
    "plt.xlabel('Cement - kg/m^3')\n",
    "plt.ylabel('Concrete Strength')\n",
    "plt.minorticks_on()\n",
    "plt.legend()\n",
    "#################################################################\n",
    "#Plotting data - Slag \n",
    "plt.subplot(332)\n",
    "\n",
    "plt.scatter(df['slag'], df['strength'], color='green', marker = '+', s=20, label = 'Slag')\n",
    "plt.xlabel('Slag - kg/m^3')\n",
    "plt.ylabel('Concrete Strength')\n",
    "plt.minorticks_on()\n",
    "plt.legend()\n",
    "#################################################################\n",
    "#Plotting data - Ash \n",
    "plt.subplot(333)\n",
    "\n",
    "plt.scatter(df['ash'], df['strength'], color='red', marker = '+', s=20, label = 'Ash')\n",
    "plt.xlabel('Ash - kg/m^3')\n",
    "plt.ylabel('Concrete Strength')\n",
    "plt.minorticks_on()\n",
    "plt.legend()\n",
    "#################################################################\n",
    "#Plotting data - Water \n",
    "plt.subplot(334)\n",
    "\n",
    "plt.scatter(df['water'], df['strength'], color='red', marker = '+', s=20, label = 'Water')\n",
    "plt.xlabel('Water - kg/m^3')\n",
    "plt.ylabel('Concrete Strength')\n",
    "plt.minorticks_on()\n",
    "plt.legend()\n",
    "#################################################################\n",
    "#Plotting data - Splast \n",
    "plt.subplot(335)\n",
    "\n",
    "plt.scatter(df['splast'], df['strength'], color='cyan', marker = '+', s=20, label = 'Splast')\n",
    "plt.xlabel('Splast - kg/m^3')\n",
    "plt.ylabel('Concrete Strength')\n",
    "plt.minorticks_on()\n",
    "plt.legend()\n",
    "#################################################################\n",
    "#Plotting data - Coarse \n",
    "plt.subplot(336)\n",
    "\n",
    "plt.scatter(df['coarse'], df['strength'], color='lime', marker = '+', s=20, label = 'Coarse')\n",
    "plt.xlabel('Coarse - kg/m^3')\n",
    "plt.ylabel('Concrete Strength')\n",
    "plt.minorticks_on()\n",
    "plt.legend()\n",
    "#################################################################\n",
    "#Plotting data - Fine \n",
    "plt.subplot(337)\n",
    "\n",
    "plt.scatter(df['fine'], df['strength'], color='pink', marker = '+', s=20, label = 'Fine')\n",
    "plt.xlabel('Fine - kg/m^3')\n",
    "plt.ylabel('Concrete Strength')\n",
    "plt.minorticks_on()\n",
    "plt.legend()\n",
    "#################################################################\n",
    "#Plotting data - Age \n",
    "plt.subplot(338)\n",
    "\n",
    "plt.scatter(df['age'], df['strength'], color='purple', marker = '+', s=20, label = 'Age')\n",
    "plt.xlabel('Age - kg/m^3')\n",
    "plt.ylabel('Concrete Strength')\n",
    "plt.minorticks_on()\n",
    "plt.legend()\n",
    "#################################################################"
   ]
  },
  {
   "cell_type": "markdown",
   "metadata": {},
   "source": [
    "We can see that with each of the attribute; there's no strong trend, only cement has a loosley \"positive\" trend.\n",
    "\n",
    "This could indicate that, cement is the most important attribute regarding concrete strength.\n",
    "#### Higher cement amount = High concrete strength"
   ]
  },
  {
   "cell_type": "markdown",
   "metadata": {},
   "source": [
    "## **Question for Bruno and or Shanghua!!** - 1 \n",
    "\n",
    "#### 1.1) What model to use if there's no trend between variables? \n",
    "#### 1.2) What would you do in this situation?"
   ]
  },
  {
   "cell_type": "markdown",
   "metadata": {},
   "source": [
    "### ------------------------------------------------------------------------------------------------------------------------------------------------------------"
   ]
  },
  {
   "cell_type": "markdown",
   "metadata": {},
   "source": [
    "## Creating Regression Models"
   ]
  },
  {
   "cell_type": "code",
   "execution_count": 6,
   "metadata": {},
   "outputs": [
    {
     "name": "stdout",
     "output_type": "stream",
     "text": [
      "['cement', 'slag', 'ash', 'water', 'splast', 'coarse', 'fine', 'age', 'strength']\n"
     ]
    }
   ],
   "source": [
    "print(f\"{cols}\")"
   ]
  },
  {
   "cell_type": "markdown",
   "metadata": {},
   "source": [
    "### Splitting Data - For Training/Testing "
   ]
  },
  {
   "cell_type": "code",
   "execution_count": 126,
   "metadata": {},
   "outputs": [],
   "source": [
    "# Splitting data; train / test - better model implementation practice\n",
    "## Cement\n",
    "x_cement = df['cement']\n",
    "x_cement = x_cement.values.reshape(-1,1) # Reshape the \"x\" values to be 2d arrays - required for fitting the model\n",
    "##################################################################################################################\n",
    "\n",
    "## Slag\n",
    "x_slag   = df['slag']\n",
    "x_slag = x_slag.values.reshape(-1,1) # Reshape the \"x\" values to be 2d arrays - required for fitting the model\n",
    "##################################################################################################################\n",
    "\n",
    "## Ash\n",
    "x_ash    = df['ash']\n",
    "x_ash    = x_ash.values.reshape(-1,1) # Reshape the \"x\" values to be 2d arrays - required for fitting the model\n",
    "##################################################################################################################\n",
    "\n",
    "## Water\n",
    "x_water  = df['water']\n",
    "x_water  = x_water.values.reshape(-1,1) # Reshape the \"x\" values to be 2d arrays - required for fitting the model\n",
    "##################################################################################################################\n",
    "\n",
    "## Splast\n",
    "x_splast = df['splast']\n",
    "x_splast = x_splast.values.reshape(-1,1) # Reshape the \"x\" values to be 2d arrays - required for fitting the model\n",
    "##################################################################################################################\n",
    "\n",
    "## Coarse\n",
    "x_coarse = df['coarse']\n",
    "x_coarse = x_coarse.values.reshape(-1,1) # Reshape the \"x\" values to be 2d arrays - required for fitting the model\n",
    "##################################################################################################################\n",
    "\n",
    "## Fine\n",
    "x_fine   = df['fine']\n",
    "x_fine   = x_fine.values.reshape(-1,1) # Reshape the \"x\" values to be 2d arrays - required for fitting the model\n",
    "##################################################################################################################\n",
    "\n",
    "## Age\n",
    "x_age    = df['age']\n",
    "x_age    = x_age.values.reshape(-1,1) # Reshape the \"x\" values to be 2d arrays - required for fitting the model\n",
    "##################################################################################################################\n",
    "\n",
    "## Strength\n",
    "y = df['strength'] # This is the final variable we want to predict, so it remains as it is. "
   ]
  },
  {
   "cell_type": "markdown",
   "metadata": {},
   "source": [
    "### Cement"
   ]
  },
  {
   "cell_type": "code",
   "execution_count": 180,
   "metadata": {},
   "outputs": [
    {
     "data": {
      "text/plain": [
       "array([38.99276464])"
      ]
     },
     "execution_count": 180,
     "metadata": {},
     "output_type": "execute_result"
    }
   ],
   "source": [
    "## Cement\n",
    "\n",
    "#Splitting Data\n",
    "x_train_cement, x_test_cement, y_train, y_test = train_test_split(x_cement, y, test_size = 0.2) # 20% = Test, 80% = Train\n",
    "\n",
    "# Assigning LR model\n",
    "lin_reg_cement = linear_model.LinearRegression()\n",
    "cement_model = lin_reg_cement.fit(x_train_cement, y_train)\n",
    "\n",
    "cement_model.predict([[314]])"
   ]
  },
  {
   "cell_type": "code",
   "execution_count": 181,
   "metadata": {},
   "outputs": [
    {
     "data": {
      "text/plain": [
       "0.16676809284424565"
      ]
     },
     "execution_count": 181,
     "metadata": {},
     "output_type": "execute_result"
    }
   ],
   "source": [
    "# Getting score of our regression model\n",
    "cement_model.score(x_test_cement, y_test)"
   ]
  },
  {
   "cell_type": "markdown",
   "metadata": {},
   "source": [
    "### Slag"
   ]
  },
  {
   "cell_type": "code",
   "execution_count": 162,
   "metadata": {},
   "outputs": [
    {
     "data": {
      "text/plain": [
       "array([36.42174617])"
      ]
     },
     "execution_count": 162,
     "metadata": {},
     "output_type": "execute_result"
    }
   ],
   "source": [
    "## Slag\n",
    "\n",
    "#Splitting Data\n",
    "x_train_slag, x_test_slag, y_train, y_test = train_test_split(x_slag, y, test_size = 0.2) # 20% = Test, 80% = Train\n",
    "\n",
    "# Assigning LR model\n",
    "lin_reg_slag = linear_model.LinearRegression()\n",
    "slag_model = lin_reg_slag.fit(x_train_slag, y_train)\n",
    "\n",
    "slag_model.predict([[126]])\n"
   ]
  },
  {
   "cell_type": "code",
   "execution_count": 163,
   "metadata": {},
   "outputs": [
    {
     "data": {
      "text/plain": [
       "0.015388433252671585"
      ]
     },
     "execution_count": 163,
     "metadata": {},
     "output_type": "execute_result"
    }
   ],
   "source": [
    "slag_model.score(x_test_slag, y_test)"
   ]
  },
  {
   "cell_type": "markdown",
   "metadata": {},
   "source": [
    "### Ash"
   ]
  },
  {
   "cell_type": "code",
   "execution_count": 164,
   "metadata": {},
   "outputs": [
    {
     "data": {
      "text/plain": [
       "array([26.1888723])"
      ]
     },
     "execution_count": 164,
     "metadata": {},
     "output_type": "execute_result"
    }
   ],
   "source": [
    "## Ash\n",
    "\n",
    "#Splitting Data\n",
    "x_train_ash, x_test_ash, y_train, y_test = train_test_split(x_ash, y, test_size = 0.2) # 20% = Test, 80% = Train\n",
    "\n",
    "# Assigning LR model\n",
    "lin_reg_ash = linear_model.LinearRegression()\n",
    "ash_model = lin_reg_ash.fit(x_train_ash, y_train)\n",
    "\n",
    "ash_model.predict([[412]])"
   ]
  },
  {
   "cell_type": "code",
   "execution_count": 165,
   "metadata": {},
   "outputs": [
    {
     "data": {
      "text/plain": [
       "0.011916903598067519"
      ]
     },
     "execution_count": 165,
     "metadata": {},
     "output_type": "execute_result"
    }
   ],
   "source": [
    "# Getting score of our regression model\n",
    "ash_model.score(x_test_ash, y_test)"
   ]
  },
  {
   "cell_type": "markdown",
   "metadata": {},
   "source": [
    "### Water"
   ]
  },
  {
   "cell_type": "code",
   "execution_count": 166,
   "metadata": {},
   "outputs": [
    {
     "data": {
      "text/plain": [
       "array([49.73225161])"
      ]
     },
     "execution_count": 166,
     "metadata": {},
     "output_type": "execute_result"
    }
   ],
   "source": [
    "## Water\n",
    "\n",
    "#Splitting Data\n",
    "x_train_water, x_test_water, y_train, y_test = train_test_split(x_water, y, test_size = 0.2) # 20% = Test, 80% = Train\n",
    "\n",
    "# Assigning LR model\n",
    "lin_reg_water = linear_model.LinearRegression()\n",
    "water_model = lin_reg_water.fit(x_train_water, y_train)\n",
    "\n",
    "water_model.predict([[122]])"
   ]
  },
  {
   "cell_type": "code",
   "execution_count": 167,
   "metadata": {},
   "outputs": [
    {
     "data": {
      "text/plain": [
       "0.04243004260592853"
      ]
     },
     "execution_count": 167,
     "metadata": {},
     "output_type": "execute_result"
    }
   ],
   "source": [
    "# Getting score of our regression model\n",
    "water_model.score(x_test_water, y_test)"
   ]
  },
  {
   "cell_type": "markdown",
   "metadata": {},
   "source": [
    "### Splast"
   ]
  },
  {
   "cell_type": "code",
   "execution_count": 168,
   "metadata": {},
   "outputs": [
    {
     "data": {
      "text/plain": [
       "array([162.51654696])"
      ]
     },
     "execution_count": 168,
     "metadata": {},
     "output_type": "execute_result"
    }
   ],
   "source": [
    "## Splast\n",
    "x_train_splast, x_test_splast, y_train, y_test = train_test_split(x_splast, y, test_size = 0.2) # 20% = Test, 80% = Train\n",
    "\n",
    "# Assigning LR model\n",
    "lin_reg_splast = linear_model.LinearRegression()\n",
    "splast_model = lin_reg_splast.fit(x_train_splast, y_train)\n",
    "\n",
    "splast_model.predict([[123]])"
   ]
  },
  {
   "cell_type": "code",
   "execution_count": 169,
   "metadata": {},
   "outputs": [
    {
     "data": {
      "text/plain": [
       "0.07579399620777061"
      ]
     },
     "execution_count": 169,
     "metadata": {},
     "output_type": "execute_result"
    }
   ],
   "source": [
    "# Getting score of our regression model\n",
    "splast_model.score(x_test_splast, y_test)"
   ]
  },
  {
   "cell_type": "markdown",
   "metadata": {},
   "source": [
    "### Coarse"
   ]
  },
  {
   "cell_type": "code",
   "execution_count": 170,
   "metadata": {},
   "outputs": [
    {
     "data": {
      "text/plain": [
       "array([69.02590686])"
      ]
     },
     "execution_count": 170,
     "metadata": {},
     "output_type": "execute_result"
    }
   ],
   "source": [
    "## Coarse\n",
    "\n",
    "#Splitting Data\n",
    "x_train_coarse, x_test_coarse, y_train, y_test = train_test_split(x_coarse, y, test_size = 0.2) # 20% = Test, 80% = Train\n",
    "\n",
    "# Assigning LR model\n",
    "lin_reg_coarse = linear_model.LinearRegression()\n",
    "coarse_model = lin_reg_coarse.fit(x_train_coarse, y_train)\n",
    "\n",
    "coarse_model.predict([[123]])"
   ]
  },
  {
   "cell_type": "code",
   "execution_count": 171,
   "metadata": {},
   "outputs": [
    {
     "data": {
      "text/plain": [
       "-0.007846005166734615"
      ]
     },
     "execution_count": 171,
     "metadata": {},
     "output_type": "execute_result"
    }
   ],
   "source": [
    "# Getting score of our regression model\n",
    "coarse_model.score(x_test_coarse, y_test)"
   ]
  },
  {
   "cell_type": "markdown",
   "metadata": {},
   "source": [
    "### Fine"
   ]
  },
  {
   "cell_type": "code",
   "execution_count": 172,
   "metadata": {},
   "outputs": [
    {
     "data": {
      "text/plain": [
       "array([45.64784713])"
      ]
     },
     "execution_count": 172,
     "metadata": {},
     "output_type": "execute_result"
    }
   ],
   "source": [
    "## Fine\n",
    "\n",
    "#Splitting Data\n",
    "x_train_fine, x_test_fine, y_train, y_test = train_test_split(x_fine, y, test_size = 0.2) # 20% = Test, 80% = Train\n",
    "\n",
    "# Assigning LR model\n",
    "lin_reg_fine = linear_model.LinearRegression()\n",
    "fine_model = lin_reg_fine.fit(x_train_fine, y_train)\n",
    "\n",
    "fine_model.predict([[512]])"
   ]
  },
  {
   "cell_type": "code",
   "execution_count": 173,
   "metadata": {},
   "outputs": [
    {
     "data": {
      "text/plain": [
       "0.010026613427936315"
      ]
     },
     "execution_count": 173,
     "metadata": {},
     "output_type": "execute_result"
    }
   ],
   "source": [
    "# Getting score of our regression model\n",
    "fine_model.score(x_test_fine, y_test)"
   ]
  },
  {
   "cell_type": "markdown",
   "metadata": {},
   "source": [
    "### Age"
   ]
  },
  {
   "cell_type": "code",
   "execution_count": 176,
   "metadata": {},
   "outputs": [
    {
     "data": {
      "text/plain": [
       "array([42.9976924])"
      ]
     },
     "execution_count": 176,
     "metadata": {},
     "output_type": "execute_result"
    }
   ],
   "source": [
    "## Age\n",
    "\n",
    "#Splitting Data\n",
    "x_train_age, x_test_age, y_train, y_test = train_test_split(x_age, y, test_size = 0.2) # 20% = Test, 80% = Train\n",
    "\n",
    "# Assigning LR model\n",
    "lin_reg_age = linear_model.LinearRegression()\n",
    "age_model = lin_reg_age.fit(x_train_age, y_train)\n",
    "\n",
    "age_model.predict([[127]])"
   ]
  },
  {
   "cell_type": "code",
   "execution_count": 182,
   "metadata": {},
   "outputs": [
    {
     "data": {
      "text/plain": [
       "-0.2130803329345046"
      ]
     },
     "execution_count": 182,
     "metadata": {},
     "output_type": "execute_result"
    }
   ],
   "source": [
    "# Getting score of our regression model\n",
    "age_model.score(x_test_age, y_test)"
   ]
  },
  {
   "cell_type": "markdown",
   "metadata": {},
   "source": [
    "## **Question for Bruno and or Shanghua!!** - 2\n",
    "\n",
    "#### 2.1) Method to find the best score for model? Finding the best batch of training data\n",
    "#### ** Example - Bruno's presentations, there are many graphs of the same model, continuously iterating - is that to find the optimal training set to attain the highest model score?"
   ]
  },
  {
   "cell_type": "markdown",
   "metadata": {},
   "source": [
    "### ------------------------------------------------------------------------------------------------------------------------------------------------------------"
   ]
  },
  {
   "cell_type": "markdown",
   "metadata": {},
   "source": [
    "### Data Visualisation - Attributes' Model\n",
    "\n",
    "#### ** Use test data for each attribute and visualise **\n",
    "\n",
    "#### Here we visualise, again, visualise each attribute. However, also plotting the best fit line for each attribute."
   ]
  },
  {
   "cell_type": "code",
   "execution_count": null,
   "metadata": {},
   "outputs": [],
   "source": []
  },
  {
   "cell_type": "code",
   "execution_count": null,
   "metadata": {},
   "outputs": [],
   "source": []
  },
  {
   "cell_type": "code",
   "execution_count": null,
   "metadata": {},
   "outputs": [],
   "source": []
  }
 ],
 "metadata": {
  "kernelspec": {
   "display_name": "Python 3",
   "language": "python",
   "name": "python3"
  },
  "language_info": {
   "codemirror_mode": {
    "name": "ipython",
    "version": 3
   },
   "file_extension": ".py",
   "mimetype": "text/x-python",
   "name": "python",
   "nbconvert_exporter": "python",
   "pygments_lexer": "ipython3",
   "version": "3.7.3"
  }
 },
 "nbformat": 4,
 "nbformat_minor": 2
}
