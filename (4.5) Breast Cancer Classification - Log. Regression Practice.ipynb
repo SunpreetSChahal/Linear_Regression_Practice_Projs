{
 "cells": [
  {
   "cell_type": "markdown",
   "metadata": {},
   "source": [
    "# Breast Cancer Classification\n",
    "\n",
    "In this notebook I will look at a dataset containing 569 cases of breast cancer.\n",
    "\n",
    "Using a logistic regression model, we will aim to predict whether the cancerous tumors is malignant or benign.\n",
    "\n",
    "*The documentation can be found on: https://scikit-learn.org/stable/modules/generated/sklearn.datasets.load_breast_cancer.html#sklearn.datasets.load_breast_cancer* \n",
    "\n",
    "*Same data from UCI ML: https://archive.ics.uci.edu/ml/datasets/Breast+Cancer+Wisconsin+(Diagnostic)*"
   ]
  },
  {
   "cell_type": "code",
   "execution_count": 2,
   "metadata": {},
   "outputs": [],
   "source": [
    "# General\n",
    "import pandas as pd\n",
    "\n",
    "# Ignoring warnings\n",
    "import warnings\n",
    "warnings.simplefilter(action='ignore', category=FutureWarning)\n",
    "\n",
    "# Data viz\n",
    "import seaborn as sn\n",
    "import matplotlib.pyplot as plt\n",
    "\n",
    "# Logistic regression\n",
    "from sklearn.linear_model import LogisticRegression\n",
    "\n",
    "# Confusion matrix\n",
    "from sklearn.metrics import confusion_matrix\n",
    "\n",
    "# Spilitting data; train & test\n",
    "from sklearn.model_selection import train_test_split"
   ]
  },
  {
   "cell_type": "code",
   "execution_count": 3,
   "metadata": {},
   "outputs": [],
   "source": [
    "# Importing dataset from SkLearn\n",
    "from sklearn.datasets import load_breast_cancer"
   ]
  },
  {
   "cell_type": "code",
   "execution_count": 4,
   "metadata": {},
   "outputs": [
    {
     "name": "stdout",
     "output_type": "stream",
     "text": [
      "The 2d array looks like: [2.057e+01 1.777e+01 1.329e+02 1.326e+03 8.474e-02 7.864e-02 8.690e-02\n",
      " 7.017e-02 1.812e-01 5.667e-02 5.435e-01 7.339e-01 3.398e+00 7.408e+01\n",
      " 5.225e-03 1.308e-02 1.860e-02 1.340e-02 1.389e-02 3.532e-03 2.499e+01\n",
      " 2.341e+01 1.588e+02 1.956e+03 1.238e-01 1.866e-01 2.416e-01 1.860e-01\n",
      " 2.750e-01 8.902e-02]\n",
      "-----------------------------------------\n",
      "The data has: (30,) different classes\n",
      "-----------------------------------------\n",
      "Our data's target names are: ['malignant' 'benign']\n",
      "-----------------------------------------\n",
      "Our data's feature names are: ['mean radius' 'mean texture' 'mean perimeter' 'mean area'\n",
      " 'mean smoothness' 'mean compactness' 'mean concavity'\n",
      " 'mean concave points' 'mean symmetry' 'mean fractal dimension'\n",
      " 'radius error' 'texture error' 'perimeter error' 'area error'\n",
      " 'smoothness error' 'compactness error' 'concavity error'\n",
      " 'concave points error' 'symmetry error' 'fractal dimension error'\n",
      " 'worst radius' 'worst texture' 'worst perimeter' 'worst area'\n",
      " 'worst smoothness' 'worst compactness' 'worst concavity'\n",
      " 'worst concave points' 'worst symmetry' 'worst fractal dimension']\n"
     ]
    }
   ],
   "source": [
    "# Store dataset in a variable\n",
    "breast_cancer = load_breast_cancer()\n",
    "\n",
    "# Let's see what our data looks like\n",
    "print(f\"The 2d array looks like: {breast_cancer.data[1]}\")\n",
    "print(\"-----------------------------------------\")\n",
    "print(f\"The data has: {breast_cancer.data[1].shape} different classes\")\n",
    "print(\"-----------------------------------------\")\n",
    "print(f\"Our data's target names are: {breast_cancer.target_names}\")\n",
    "print(\"-----------------------------------------\")\n",
    "print(f\"Our data's feature names are: {breast_cancer.feature_names}\")"
   ]
  },
  {
   "cell_type": "code",
   "execution_count": 7,
   "metadata": {},
   "outputs": [
    {
     "data": {
      "text/plain": [
       "(569, 30)"
      ]
     },
     "execution_count": 7,
     "metadata": {},
     "output_type": "execute_result"
    }
   ],
   "source": [
    "breast_cancer.data.shape"
   ]
  },
  {
   "cell_type": "code",
   "execution_count": 23,
   "metadata": {},
   "outputs": [
    {
     "data": {
      "text/plain": [
       "(569, 30)"
      ]
     },
     "execution_count": 23,
     "metadata": {},
     "output_type": "execute_result"
    }
   ],
   "source": [
    "# Let's see the shape of the data\n",
    "breast_cancer.data.shape"
   ]
  },
  {
   "cell_type": "code",
   "execution_count": 44,
   "metadata": {},
   "outputs": [],
   "source": [
    "# Splitting data into training and testing sets\n",
    "xtrain, xtest, ytrain, ytest = train_test_split(breast_cancer.data, breast_cancer.target, test_size = 0.2)"
   ]
  },
  {
   "cell_type": "code",
   "execution_count": 55,
   "metadata": {},
   "outputs": [],
   "source": [
    "# Storing our model\n",
    "bc_log = LogisticRegression()"
   ]
  },
  {
   "cell_type": "code",
   "execution_count": 56,
   "metadata": {},
   "outputs": [
    {
     "data": {
      "text/plain": [
       "LogisticRegression(C=1.0, class_weight=None, dual=False, fit_intercept=True,\n",
       "                   intercept_scaling=1, l1_ratio=None, max_iter=100,\n",
       "                   multi_class='warn', n_jobs=None, penalty='l2',\n",
       "                   random_state=None, solver='warn', tol=0.0001, verbose=0,\n",
       "                   warm_start=False)"
      ]
     },
     "execution_count": 56,
     "metadata": {},
     "output_type": "execute_result"
    }
   ],
   "source": [
    "# Fitting our model \n",
    "bc_log.fit(xtrain, ytrain)"
   ]
  },
  {
   "cell_type": "code",
   "execution_count": 57,
   "metadata": {},
   "outputs": [
    {
     "data": {
      "text/plain": [
       "0.9649122807017544"
      ]
     },
     "execution_count": 57,
     "metadata": {},
     "output_type": "execute_result"
    }
   ],
   "source": [
    "# Getting our model score\n",
    "bc_log.score(xtest, ytest) # Our model is pretty accurate = 96.49%"
   ]
  },
  {
   "cell_type": "markdown",
   "metadata": {},
   "source": [
    "#### Testing our model vs .target[]\n",
    "\n",
    "Let's do a few examples to compare the scikit function of; .target[] vs. using our model to predict a result using a range of variables.\n",
    "\n",
    "This will:\n",
    "\n",
    "    1) Allow us to test our model\n",
    "    2) See if our model misses a prediction \n",
    "    \n",
    "##### First Test - Fixed Dimensions"
   ]
  },
  {
   "cell_type": "code",
   "execution_count": 58,
   "metadata": {},
   "outputs": [
    {
     "data": {
      "text/plain": [
       "array([1.300e+01, 2.078e+01, 8.351e+01, 5.194e+02, 1.135e-01, 7.589e-02,\n",
       "       3.136e-02, 2.645e-02, 2.540e-01, 6.087e-02, 4.202e-01, 1.322e+00,\n",
       "       2.873e+00, 3.478e+01, 7.017e-03, 1.142e-02, 1.949e-02, 1.153e-02,\n",
       "       2.951e-02, 1.533e-03, 1.416e+01, 2.411e+01, 9.082e+01, 6.167e+02,\n",
       "       1.297e-01, 1.105e-01, 8.112e-02, 6.296e-02, 3.196e-01, 6.435e-02])"
      ]
     },
     "execution_count": 58,
     "metadata": {},
     "output_type": "execute_result"
    }
   ],
   "source": [
    "# Let's get the feature values for case #150\n",
    "breast_cancer.data[150]"
   ]
  },
  {
   "cell_type": "code",
   "execution_count": 69,
   "metadata": {},
   "outputs": [
    {
     "data": {
      "text/plain": [
       "1"
      ]
     },
     "execution_count": 69,
     "metadata": {},
     "output_type": "execute_result"
    }
   ],
   "source": [
    "# Let's see what class case #150 is\n",
    "breast_cancer.target[150]"
   ]
  },
  {
   "cell_type": "code",
   "execution_count": 70,
   "metadata": {},
   "outputs": [
    {
     "data": {
      "text/plain": [
       "array([1])"
      ]
     },
     "execution_count": 70,
     "metadata": {},
     "output_type": "execute_result"
    }
   ],
   "source": [
    "# Let's see if our model predicts the same class\n",
    "bc_log.predict([[1.300e+01, 2.078e+01, 8.351e+01, 5.194e+02, 1.135e-01, 7.589e-02,\n",
    "                        3.136e-02, 2.645e-02, 2.540e-01, 6.087e-02, 4.202e-01, 1.322e+00,\n",
    "                        2.873e+00, 3.478e+01, 7.017e-03, 1.142e-02, 1.949e-02, 1.153e-02,\n",
    "                        2.951e-02, 1.533e-03, 1.416e+01, 2.411e+01, 9.082e+01, 6.167e+02,\n",
    "                        1.297e-01, 1.105e-01, 8.112e-02, 6.296e-02, 3.196e-01, 6.435e-02]])"
   ]
  },
  {
   "cell_type": "markdown",
   "metadata": {},
   "source": [
    "##### Second Test - Fixed Dimensions"
   ]
  },
  {
   "cell_type": "code",
   "execution_count": 71,
   "metadata": {},
   "outputs": [
    {
     "data": {
      "text/plain": [
       "array([9.667e+00, 1.849e+01, 6.149e+01, 2.891e+02, 8.946e-02, 6.258e-02,\n",
       "       2.948e-02, 1.514e-02, 2.238e-01, 6.413e-02, 3.776e-01, 1.350e+00,\n",
       "       2.569e+00, 2.273e+01, 7.501e-03, 1.989e-02, 2.714e-02, 9.883e-03,\n",
       "       1.960e-02, 3.913e-03, 1.114e+01, 2.562e+01, 7.088e+01, 3.852e+02,\n",
       "       1.234e-01, 1.542e-01, 1.277e-01, 6.560e-02, 3.174e-01, 8.524e-02])"
      ]
     },
     "execution_count": 71,
     "metadata": {},
     "output_type": "execute_result"
    }
   ],
   "source": [
    "# Let's get the feature values for case #470\n",
    "breast_cancer.data[470]"
   ]
  },
  {
   "cell_type": "code",
   "execution_count": 72,
   "metadata": {},
   "outputs": [
    {
     "data": {
      "text/plain": [
       "1"
      ]
     },
     "execution_count": 72,
     "metadata": {},
     "output_type": "execute_result"
    }
   ],
   "source": [
    "# Let's see what class case #470 is\n",
    "breast_cancer.target[470]"
   ]
  },
  {
   "cell_type": "code",
   "execution_count": 73,
   "metadata": {},
   "outputs": [
    {
     "data": {
      "text/plain": [
       "array([1])"
      ]
     },
     "execution_count": 73,
     "metadata": {},
     "output_type": "execute_result"
    }
   ],
   "source": [
    "# Let's see if our model predicts the same class\n",
    "bc_log.predict([[9.667e+00, 1.849e+01, 6.149e+01, 2.891e+02, 8.946e-02, 6.258e-02,\n",
    "                 2.948e-02, 1.514e-02, 2.238e-01, 6.413e-02, 3.776e-01, 1.350e+00,\n",
    "                 2.569e+00, 2.273e+01, 7.501e-03, 1.989e-02, 2.714e-02, 9.883e-03,\n",
    "                 1.960e-02, 3.913e-03, 1.114e+01, 2.562e+01, 7.088e+01, 3.852e+02,\n",
    "                 1.234e-01, 1.542e-01, 1.277e-01, 6.560e-02, 3.174e-01, 8.524e-02]])"
   ]
  },
  {
   "cell_type": "markdown",
   "metadata": {},
   "source": [
    "##### Third Test - Fixed Dimensions"
   ]
  },
  {
   "cell_type": "code",
   "execution_count": 74,
   "metadata": {},
   "outputs": [
    {
     "data": {
      "text/plain": [
       "array([1.245e+01, 1.570e+01, 8.257e+01, 4.771e+02, 1.278e-01, 1.700e-01,\n",
       "       1.578e-01, 8.089e-02, 2.087e-01, 7.613e-02, 3.345e-01, 8.902e-01,\n",
       "       2.217e+00, 2.719e+01, 7.510e-03, 3.345e-02, 3.672e-02, 1.137e-02,\n",
       "       2.165e-02, 5.082e-03, 1.547e+01, 2.375e+01, 1.034e+02, 7.416e+02,\n",
       "       1.791e-01, 5.249e-01, 5.355e-01, 1.741e-01, 3.985e-01, 1.244e-01])"
      ]
     },
     "execution_count": 74,
     "metadata": {},
     "output_type": "execute_result"
    }
   ],
   "source": [
    "# Let's get the feature values for case #5\n",
    "breast_cancer.data[5]"
   ]
  },
  {
   "cell_type": "code",
   "execution_count": 75,
   "metadata": {},
   "outputs": [
    {
     "data": {
      "text/plain": [
       "0"
      ]
     },
     "execution_count": 75,
     "metadata": {},
     "output_type": "execute_result"
    }
   ],
   "source": [
    "# Let's see what class case #5 is\n",
    "breast_cancer.target[5]"
   ]
  },
  {
   "cell_type": "code",
   "execution_count": 76,
   "metadata": {},
   "outputs": [
    {
     "data": {
      "text/plain": [
       "array([0])"
      ]
     },
     "execution_count": 76,
     "metadata": {},
     "output_type": "execute_result"
    }
   ],
   "source": [
    "# Let's see if our model predicts the same class\n",
    "bc_log.predict([[1.245e+01, 1.570e+01, 8.257e+01, 4.771e+02, 1.278e-01, 1.700e-01,\n",
    "                 1.578e-01, 8.089e-02, 2.087e-01, 7.613e-02, 3.345e-01, 8.902e-01,\n",
    "                 2.217e+00, 2.719e+01, 7.510e-03, 3.345e-02, 3.672e-02, 1.137e-02,\n",
    "                 2.165e-02, 5.082e-03, 1.547e+01, 2.375e+01, 1.034e+02, 7.416e+02,\n",
    "                 1.791e-01, 5.249e-01, 5.355e-01, 1.741e-01, 3.985e-01, 1.244e-01]])"
   ]
  },
  {
   "cell_type": "markdown",
   "metadata": {},
   "source": [
    "#### What can we see from our tests?\n",
    "##### Test 1 - Case #150:\n",
    "- The true class of case #150 was: 1 - Benign\n",
    "- Our predicted class of case #150 was: 1 - Benign\n",
    "\n",
    "##### Test 2 - Case #470:\n",
    "- The true class of case #470 was: 1 - Benign\n",
    "- Our predicted class of case #470 was: 1 - Benign\n",
    "\n",
    "##### Test 3 - Case #5:\n",
    "- The true class of case #5 was: 0 - Malignant\n",
    "- Our predicted class of case #5 was: 0 - Malignant\n",
    "\n",
    "We can see that our model is fairly accurate."
   ]
  },
  {
   "cell_type": "markdown",
   "metadata": {},
   "source": [
    "### Confusion Matrix\n",
    "\n",
    "Let's create a confusion matrix to visualise where our model predicts the true values and when it misses."
   ]
  },
  {
   "cell_type": "code",
   "execution_count": 77,
   "metadata": {},
   "outputs": [
    {
     "data": {
      "text/plain": [
       "array([[38,  3],\n",
       "       [ 1, 72]], dtype=int64)"
      ]
     },
     "execution_count": 77,
     "metadata": {},
     "output_type": "execute_result"
    }
   ],
   "source": [
    "# Storing the predicted values to plot against the true values\n",
    "bc_y_predicted = bc_log.predict(xtest)\n",
    "\n",
    "# Fitting confusion matrix\n",
    "bc_cm = confusion_matrix(ytest, bc_y_predicted)\n",
    "bc_cm"
   ]
  },
  {
   "cell_type": "code",
   "execution_count": 78,
   "metadata": {},
   "outputs": [
    {
     "data": {
      "text/plain": [
       "Text(114.0, 0.5, 'True Values')"
      ]
     },
     "execution_count": 78,
     "metadata": {},
     "output_type": "execute_result"
    },
    {
     "data": {
      "image/png": "[encoded data removed]",
      "text/plain": [
       "<Figure size 1080x720 with 2 Axes>"
      ]
     },
     "metadata": {
      "needs_background": "light"
     },
     "output_type": "display_data"
    }
   ],
   "source": [
    "# Visualising the Confusion Matrix\n",
    "\n",
    "# Setting graph size\n",
    "plt.figure(figsize=(15,10))\n",
    "\n",
    "# Plotting Confusion Matrix\n",
    "sn.heatmap(bc_cm, annot=True)\n",
    "\n",
    "# Setting graph labels\n",
    "plt.xlabel(\"Predicted Values\")\n",
    "plt.ylabel(\"True Values\")"
   ]
  },
  {
   "cell_type": "markdown",
   "metadata": {},
   "source": [
    "#### What does this graph show?\n",
    "\n",
    "- Where our model missed:\n",
    "    - When the true value was 1, our model predicted 0 - *1 Instance*\n",
    "    - When the true value was 0, our model predicted 1 - *3 Instances*\n",
    "    \n",
    "- Our model reflects a very strong accuracy score"
   ]
  }
 ],
 "metadata": {
  "kernelspec": {
   "display_name": "Python 3",
   "language": "python",
   "name": "python3"
  },
  "language_info": {
   "codemirror_mode": {
    "name": "ipython",
    "version": 3
   },
   "file_extension": ".py",
   "mimetype": "text/x-python",
   "name": "python",
   "nbconvert_exporter": "python",
   "pygments_lexer": "ipython3",
   "version": "3.7.3"
  }
 },
 "nbformat": 4,
 "nbformat_minor": 2
}
