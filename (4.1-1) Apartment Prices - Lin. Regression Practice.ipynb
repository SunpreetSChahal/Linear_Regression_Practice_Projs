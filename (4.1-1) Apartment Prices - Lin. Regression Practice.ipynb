{
 "cells": [
  {
   "cell_type": "markdown",
   "metadata": {},
   "source": [
    "#### This short project looks at property squarefootage against it's relative price\n",
    "\n",
    "We will build a model which takes in a random property size and we *should* get a an accurate property price."
   ]
  },
  {
   "cell_type": "code",
   "execution_count": 1,
   "metadata": {},
   "outputs": [],
   "source": [
    "# Standard libraries\n",
    "import pandas as pd\n",
    "import numpy as np\n",
    "import matplotlib.pyplot as plt\n",
    "\n",
    "# Libraries for linear regression\n",
    "from sklearn import linear_model\n",
    "from sklearn.model_selection import train_test_split\n",
    "\n",
    "#Saving model\n",
    "import joblib "
   ]
  },
  {
   "cell_type": "code",
   "execution_count": 66,
   "metadata": {},
   "outputs": [
    {
     "data": {
      "text/html": [
       "<div>\n",
       "<style scoped>\n",
       "    .dataframe tbody tr th:only-of-type {\n",
       "        vertical-align: middle;\n",
       "    }\n",
       "\n",
       "    .dataframe tbody tr th {\n",
       "        vertical-align: top;\n",
       "    }\n",
       "\n",
       "    .dataframe thead th {\n",
       "        text-align: right;\n",
       "    }\n",
       "</style>\n",
       "<table border=\"1\" class=\"dataframe\">\n",
       "  <thead>\n",
       "    <tr style=\"text-align: right;\">\n",
       "      <th></th>\n",
       "      <th>Squaremeter</th>\n",
       "      <th>Price</th>\n",
       "    </tr>\n",
       "  </thead>\n",
       "  <tbody>\n",
       "    <tr>\n",
       "      <th>0</th>\n",
       "      <td>70</td>\n",
       "      <td>351</td>\n",
       "    </tr>\n",
       "    <tr>\n",
       "      <th>1</th>\n",
       "      <td>72</td>\n",
       "      <td>39</td>\n",
       "    </tr>\n",
       "    <tr>\n",
       "      <th>2</th>\n",
       "      <td>91</td>\n",
       "      <td>473</td>\n",
       "    </tr>\n",
       "    <tr>\n",
       "      <th>3</th>\n",
       "      <td>58</td>\n",
       "      <td>282</td>\n",
       "    </tr>\n",
       "    <tr>\n",
       "      <th>4</th>\n",
       "      <td>49</td>\n",
       "      <td>3</td>\n",
       "    </tr>\n",
       "  </tbody>\n",
       "</table>\n",
       "</div>"
      ],
      "text/plain": [
       "   Squaremeter  Price\n",
       "0           70    351\n",
       "1           72     39\n",
       "2           91    473\n",
       "3           58    282\n",
       "4           49      3"
      ]
     },
     "execution_count": 66,
     "metadata": {},
     "output_type": "execute_result"
    }
   ],
   "source": [
    "df = pd.read_csv(r\"C:\\Users\\ssc44611\\Documents\\L4 Projects\\4. Regression Practice Projects - ED & ML\\Apartment Price\\apartment_prices.csv\")\n",
    "df.head()"
   ]
  },
  {
   "cell_type": "code",
   "execution_count": 67,
   "metadata": {},
   "outputs": [
    {
     "data": {
      "text/plain": [
       "<matplotlib.legend.Legend at 0x1d12a9a25f8>"
      ]
     },
     "execution_count": 67,
     "metadata": {},
     "output_type": "execute_result"
    },
    {
     "data": {
      "image/png": "[encoded data removed]",
      "text/plain": [
       "<Figure size 720x360 with 1 Axes>"
      ]
     },
     "metadata": {
      "needs_background": "light"
     },
     "output_type": "display_data"
    }
   ],
   "source": [
    "# Getting an idea of out data via a scatter plot\n",
    "%matplotlib inline \n",
    "\n",
    "# Setting figure size\n",
    "plt.figure(figsize=(10,5))\n",
    "\n",
    "# Labelling axis\n",
    "plt.xlabel('Area (Squaremeters)') # Setting label for the x axis\n",
    "plt.ylabel('Price ($)') # Setting label for the y axis\n",
    "\n",
    "# Plotting general data - scatter\n",
    "plt.scatter(df.Squaremeter, df.Price, color='blue', marker='+', label = 'Apartment Size') # Plotting graph\n",
    "\n",
    "#Include labels\n",
    "plt.legend()"
   ]
  },
  {
   "cell_type": "markdown",
   "metadata": {},
   "source": [
    "We can see two obvious outliers:\n",
    "    - ~47 Squaremeter, ~$0\n",
    "- ~71 Squaremeter, ~$60"
   ]
  },
  {
   "cell_type": "code",
   "execution_count": 117,
   "metadata": {},
   "outputs": [],
   "source": [
    "# Splitting data\n",
    "x = df['Squaremeter']\n",
    "y = df['Price']\n",
    "x = x.values.reshape(-1,1) # Reshape the \"x\" values to be 2d arrays - required for fitting the model\n",
    "\n",
    "x_train, x_test, y_train, y_test = train_test_split(x,y,test_size=0.2) #Can add ,random_state = 10) to keep samples the same"
   ]
  },
  {
   "cell_type": "code",
   "execution_count": 118,
   "metadata": {},
   "outputs": [
    {
     "data": {
      "text/plain": [
       "LinearRegression(copy_X=True, fit_intercept=True, n_jobs=None, normalize=False)"
      ]
     },
     "execution_count": 118,
     "metadata": {},
     "output_type": "execute_result"
    }
   ],
   "source": [
    "# Fit Model \n",
    "reg = linear_model.LinearRegression()\n",
    "reg.fit(x_train, y_train)"
   ]
  },
  {
   "cell_type": "code",
   "execution_count": 120,
   "metadata": {},
   "outputs": [
    {
     "data": {
      "text/plain": [
       "0.9507533390616799"
      ]
     },
     "execution_count": 120,
     "metadata": {},
     "output_type": "execute_result"
    }
   ],
   "source": [
    "reg.score(x_test,y_test) # The score is 95.07% "
   ]
  },
  {
   "cell_type": "code",
   "execution_count": 121,
   "metadata": {
    "scrolled": true
   },
   "outputs": [
    {
     "data": {
      "text/plain": [
       "['(4.1) Apartment Prices - Regression Practice - Model']"
      ]
     },
     "execution_count": 121,
     "metadata": {},
     "output_type": "execute_result"
    }
   ],
   "source": [
    "# joblib.dump(model_variable_name, \"model_save_name\")\n",
    "joblib.dump(reg, '(4.1-1) Apartment Prices - Regression Practice - Model')"
   ]
  },
  {
   "cell_type": "code",
   "execution_count": 122,
   "metadata": {},
   "outputs": [],
   "source": [
    "# new_model_variable = joblib.load(\"model_save_name\")\n",
    "## AP = Apartment Prices\n",
    "AP_model = joblib.load('(4.1-1) Apartment Prices - Regression Practice - Model')"
   ]
  },
  {
   "cell_type": "code",
   "execution_count": 123,
   "metadata": {},
   "outputs": [
    {
     "data": {
      "text/plain": [
       "array([191.07191997, 486.16436019, 297.91573453, 262.30112968,\n",
       "       216.51092344, 231.77432552, 542.13016781, 292.82793384,\n",
       "       267.38893037, 282.65233245])"
      ]
     },
     "execution_count": 123,
     "metadata": {},
     "output_type": "execute_result"
    }
   ],
   "source": [
    "# Automatic prediction\n",
    "AP_model.predict(x_test) # syntax; reg.predict([[x], [x], [x]]) or reg.predict([[x]]) or reg.predict(x)"
   ]
  },
  {
   "cell_type": "markdown",
   "metadata": {},
   "source": [
    "Now let's look at getting the point for line of best fit:\n",
    "\n",
    "y = mx + b\n",
    "\n",
    "- m = The coefficient, \"co\" meaning joint - in this case with the variable \"x\"\n",
    "- b = The intercept\n"
   ]
  },
  {
   "cell_type": "code",
   "execution_count": 124,
   "metadata": {
    "scrolled": true
   },
   "outputs": [
    {
     "name": "stdout",
     "output_type": "stream",
     "text": [
      "The coefficient is: [5.08780069]\n",
      "The intercept is: -12.440107761375828\n"
     ]
    },
    {
     "data": {
      "text/plain": [
       "array([[191.07191997],\n",
       "       [486.16436019],\n",
       "       [297.91573453],\n",
       "       [262.30112968],\n",
       "       [216.51092344],\n",
       "       [231.77432552],\n",
       "       [542.13016781],\n",
       "       [292.82793384],\n",
       "       [267.38893037],\n",
       "       [282.65233245]])"
      ]
     },
     "execution_count": 124,
     "metadata": {},
     "output_type": "execute_result"
    }
   ],
   "source": [
    "# Manual prediction - how it works essentially\n",
    "coefficient = AP_model.coef_ # m\n",
    "intercept = AP_model.intercept_ # b\n",
    "\n",
    "print(f\"The coefficient is: {coefficient}\")\n",
    "print(f\"The intercept is: {intercept}\")\n",
    "(coefficient * x_test) + intercept # Multiply by a random vaiable "
   ]
  },
  {
   "cell_type": "markdown",
   "metadata": {},
   "source": [
    "The score of the model fluctuates. We have to find a way, where our test data produces the highest correlative score."
   ]
  },
  {
   "cell_type": "code",
   "execution_count": 125,
   "metadata": {},
   "outputs": [
    {
     "data": {
      "text/plain": [
       "<matplotlib.legend.Legend at 0x1d12bac8550>"
      ]
     },
     "execution_count": 125,
     "metadata": {},
     "output_type": "execute_result"
    },
    {
     "data": {
      "image/png": "[encoded data removed]",
      "text/plain": [
       "<Figure size 720x360 with 1 Axes>"
      ]
     },
     "metadata": {
      "needs_background": "light"
     },
     "output_type": "display_data"
    }
   ],
   "source": [
    "%matplotlib inline\n",
    "\n",
    "# Set figure size\n",
    "plt.figure(figsize=(10, 5))\n",
    "\n",
    "# Assigning labels to axis\n",
    "plt.xlabel('Area (Squaremeters)') # x axis\n",
    "plt.ylabel('Price ($)') # y axis\n",
    "\n",
    "# Plotting general data - scatter\n",
    "plt.scatter(df.Squaremeter, df.Price, color='blue', marker='+', label = 'Apartment Size') \n",
    "\n",
    "# Plotting line of best fit - line.\n",
    "## Syntax; plt.plot(x, reg.predict(x)...) : reg.predict(x) = y = m*x + b\n",
    "plt.plot(df.Squaremeter, AP_model.predict(x),color='black', label = 'Best Fit', linewidth = 0.5)\n",
    "\n",
    "# Include labels\n",
    "plt.legend()"
   ]
  },
  {
   "cell_type": "code",
   "execution_count": 126,
   "metadata": {},
   "outputs": [
    {
     "data": {
      "text/plain": [
       "array([160.54511581])"
      ]
     },
     "execution_count": 126,
     "metadata": {},
     "output_type": "execute_result"
    }
   ],
   "source": [
    "reg.predict([[34]])"
   ]
  },
  {
   "cell_type": "markdown",
   "metadata": {},
   "source": [
    "Since our model has scored fairly well - ~95%, we can assume the model's result is quite accurate.\n",
    "\n",
    "Using our model we can see that:\n",
    "    - A property size of 34 Squaremeters, results in a propert price of $160.54\n",
    "   "
   ]
  },
  {
   "cell_type": "code",
   "execution_count": null,
   "metadata": {},
   "outputs": [],
   "source": []
  }
 ],
 "metadata": {
  "kernelspec": {
   "display_name": "Python 3 (ipykernel)",
   "language": "python",
   "name": "python3"
  },
  "language_info": {
   "codemirror_mode": {
    "name": "ipython",
    "version": 3
   },
   "file_extension": ".py",
   "mimetype": "text/x-python",
   "name": "python",
   "nbconvert_exporter": "python",
   "pygments_lexer": "ipython3",
   "version": "3.9.7"
  }
 },
 "nbformat": 4,
 "nbformat_minor": 2
}
