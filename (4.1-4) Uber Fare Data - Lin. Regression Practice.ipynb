{
 "cells": [
  {
   "cell_type": "markdown",
   "id": "05b16028",
   "metadata": {},
   "source": [
    "# Uber Trip Data Regression\n",
    "-----\n",
    "In this notebook I will be using a regression model against a dataset regarding upber trips.\n",
    "\n",
    "The purpose of this model is to predict the __fare price__ given various ride features.\n",
    "\n",
    "----------\n",
    "*Data from: https://www.kaggle.com/yasserh/uber-fares-dataset*"
   ]
  },
  {
   "cell_type": "code",
   "execution_count": 1,
   "id": "7b664290",
   "metadata": {},
   "outputs": [],
   "source": [
    "# Importing required libraries\n",
    "\n",
    "## Data processing\n",
    "import pandas as pd\n",
    "import numpy as np\n",
    "import datetime\n",
    "from geopy.distance import geodesic # Required to calculate distance between long/lat cooridinates of:\n",
    "                                    # pickup & dropoff points\n",
    "\n",
    "# Data viz\n",
    "import matplotlib.pyplot as plt\n",
    "import seaborn as sn\n",
    "\n",
    "## SkLearn packages \n",
    "from sklearn import linear_model # Linear regression model\n",
    "from sklearn.ensemble import RandomForestRegressor # Random forest regressor\n",
    "from sklearn.model_selection import train_test_split # To split the data into training and testing sets"
   ]
  },
  {
   "cell_type": "code",
   "execution_count": 2,
   "id": "cacf28e1",
   "metadata": {
    "scrolled": true
   },
   "outputs": [
    {
     "data": {
      "text/html": [
       "<div>\n",
       "<style scoped>\n",
       "    .dataframe tbody tr th:only-of-type {\n",
       "        vertical-align: middle;\n",
       "    }\n",
       "\n",
       "    .dataframe tbody tr th {\n",
       "        vertical-align: top;\n",
       "    }\n",
       "\n",
       "    .dataframe thead th {\n",
       "        text-align: right;\n",
       "    }\n",
       "</style>\n",
       "<table border=\"1\" class=\"dataframe\">\n",
       "  <thead>\n",
       "    <tr style=\"text-align: right;\">\n",
       "      <th></th>\n",
       "      <th>Unnamed: 0</th>\n",
       "      <th>key</th>\n",
       "      <th>fare_amount</th>\n",
       "      <th>pickup_datetime</th>\n",
       "      <th>pickup_longitude</th>\n",
       "      <th>pickup_latitude</th>\n",
       "      <th>dropoff_longitude</th>\n",
       "      <th>dropoff_latitude</th>\n",
       "      <th>passenger_count</th>\n",
       "    </tr>\n",
       "  </thead>\n",
       "  <tbody>\n",
       "    <tr>\n",
       "      <th>0</th>\n",
       "      <td>24238194</td>\n",
       "      <td>2015-05-07 19:52:06.0000003</td>\n",
       "      <td>7.5</td>\n",
       "      <td>2015-05-07 19:52:06 UTC</td>\n",
       "      <td>-73.999817</td>\n",
       "      <td>40.738354</td>\n",
       "      <td>-73.999512</td>\n",
       "      <td>40.723217</td>\n",
       "      <td>1</td>\n",
       "    </tr>\n",
       "    <tr>\n",
       "      <th>1</th>\n",
       "      <td>27835199</td>\n",
       "      <td>2009-07-17 20:04:56.0000002</td>\n",
       "      <td>7.7</td>\n",
       "      <td>2009-07-17 20:04:56 UTC</td>\n",
       "      <td>-73.994355</td>\n",
       "      <td>40.728225</td>\n",
       "      <td>-73.994710</td>\n",
       "      <td>40.750325</td>\n",
       "      <td>1</td>\n",
       "    </tr>\n",
       "    <tr>\n",
       "      <th>2</th>\n",
       "      <td>44984355</td>\n",
       "      <td>2009-08-24 21:45:00.00000061</td>\n",
       "      <td>12.9</td>\n",
       "      <td>2009-08-24 21:45:00 UTC</td>\n",
       "      <td>-74.005043</td>\n",
       "      <td>40.740770</td>\n",
       "      <td>-73.962565</td>\n",
       "      <td>40.772647</td>\n",
       "      <td>1</td>\n",
       "    </tr>\n",
       "    <tr>\n",
       "      <th>3</th>\n",
       "      <td>25894730</td>\n",
       "      <td>2009-06-26 08:22:21.0000001</td>\n",
       "      <td>5.3</td>\n",
       "      <td>2009-06-26 08:22:21 UTC</td>\n",
       "      <td>-73.976124</td>\n",
       "      <td>40.790844</td>\n",
       "      <td>-73.965316</td>\n",
       "      <td>40.803349</td>\n",
       "      <td>3</td>\n",
       "    </tr>\n",
       "    <tr>\n",
       "      <th>4</th>\n",
       "      <td>17610152</td>\n",
       "      <td>2014-08-28 17:47:00.000000188</td>\n",
       "      <td>16.0</td>\n",
       "      <td>2014-08-28 17:47:00 UTC</td>\n",
       "      <td>-73.925023</td>\n",
       "      <td>40.744085</td>\n",
       "      <td>-73.973082</td>\n",
       "      <td>40.761247</td>\n",
       "      <td>5</td>\n",
       "    </tr>\n",
       "  </tbody>\n",
       "</table>\n",
       "</div>"
      ],
      "text/plain": [
       "   Unnamed: 0                            key  fare_amount  \\\n",
       "0    24238194    2015-05-07 19:52:06.0000003          7.5   \n",
       "1    27835199    2009-07-17 20:04:56.0000002          7.7   \n",
       "2    44984355   2009-08-24 21:45:00.00000061         12.9   \n",
       "3    25894730    2009-06-26 08:22:21.0000001          5.3   \n",
       "4    17610152  2014-08-28 17:47:00.000000188         16.0   \n",
       "\n",
       "           pickup_datetime  pickup_longitude  pickup_latitude  \\\n",
       "0  2015-05-07 19:52:06 UTC        -73.999817        40.738354   \n",
       "1  2009-07-17 20:04:56 UTC        -73.994355        40.728225   \n",
       "2  2009-08-24 21:45:00 UTC        -74.005043        40.740770   \n",
       "3  2009-06-26 08:22:21 UTC        -73.976124        40.790844   \n",
       "4  2014-08-28 17:47:00 UTC        -73.925023        40.744085   \n",
       "\n",
       "   dropoff_longitude  dropoff_latitude  passenger_count  \n",
       "0         -73.999512         40.723217                1  \n",
       "1         -73.994710         40.750325                1  \n",
       "2         -73.962565         40.772647                1  \n",
       "3         -73.965316         40.803349                3  \n",
       "4         -73.973082         40.761247                5  "
      ]
     },
     "execution_count": 2,
     "metadata": {},
     "output_type": "execute_result"
    }
   ],
   "source": [
    "# Import our data\n",
    "df = pd.read_csv(r\"C:\\Users\\ssc44611\\Documents\\L4 Projects\\4. ML Practice Projects\\Uber Regression\\uber.csv\")\n",
    "df.head()"
   ]
  },
  {
   "cell_type": "code",
   "execution_count": 3,
   "id": "7daf7fc3",
   "metadata": {},
   "outputs": [
    {
     "data": {
      "text/plain": [
       "(200000, 9)"
      ]
     },
     "execution_count": 3,
     "metadata": {},
     "output_type": "execute_result"
    }
   ],
   "source": [
    "# Shape of our DF\n",
    "df.shape"
   ]
  },
  {
   "cell_type": "markdown",
   "id": "07081c6d",
   "metadata": {},
   "source": [
    "### Brain dump for this task:\n",
    "\n",
    "Our __feature__ column will be:\n",
    "- *pickup_datetime*\n",
    "- *pickup_longitude*\n",
    "- *pickup_latitude*\n",
    "- *dropoff_longitude*\n",
    "- *dropoff_latitude*\n",
    "- *passenger_count*\n",
    "\n",
    "Our __target__ column will be:\n",
    "- *fare_amount*\n",
    "\n",
    "__*The features used may be changed later on in the notebook*__"
   ]
  },
  {
   "cell_type": "markdown",
   "id": "4bd47bf7",
   "metadata": {},
   "source": [
    "## Data procesisng (initial)"
   ]
  },
  {
   "cell_type": "code",
   "execution_count": 4,
   "id": "6af854d1",
   "metadata": {},
   "outputs": [
    {
     "data": {
      "text/plain": [
       "Unnamed: 0           0\n",
       "key                  0\n",
       "fare_amount          0\n",
       "pickup_datetime      0\n",
       "pickup_longitude     0\n",
       "pickup_latitude      0\n",
       "dropoff_longitude    1\n",
       "dropoff_latitude     1\n",
       "passenger_count      0\n",
       "dtype: int64"
      ]
     },
     "execution_count": 4,
     "metadata": {},
     "output_type": "execute_result"
    }
   ],
   "source": [
    "# Looking for null values\n",
    "df.isnull().sum()"
   ]
  },
  {
   "cell_type": "markdown",
   "id": "77b30191",
   "metadata": {},
   "source": [
    "There are __two columns with null values__, let's just drop these rows that are missng values, because;\n",
    "1) If ammended or overwritted to 0, this may have an effect on the model\n",
    "\n",
    "2) One or two rows missing from a df of 200,000 won't effect the end model performance\n",
    "\n",
    "From point __1__, we will need to find any rows with coordinates of 0"
   ]
  },
  {
   "cell_type": "code",
   "execution_count": 5,
   "id": "d6bddfe7",
   "metadata": {},
   "outputs": [
    {
     "data": {
      "text/plain": [
       "(3968, 9)"
      ]
     },
     "execution_count": 5,
     "metadata": {},
     "output_type": "execute_result"
    }
   ],
   "source": [
    "# Locating any rows that have no coordinates for either of the pickup/dropoff columns \n",
    "df.loc[( (df['pickup_longitude'] == 0) | (df['pickup_latitude'] == 0) | (df['dropoff_longitude'] == 0) | (df['dropoff_latitude'] == 0) ) | (df['pickup_longitude'] == 'nan') | (df['pickup_latitude'] == 'nan') | (df['dropoff_longitude'] == 'nan') | (df['dropoff_latitude'] == 'nan') |\n",
    "      (df['pickup_longitude'] == 0.0) | (df['pickup_latitude'] == 0.0) | (df['dropoff_longitude'] == 0.0) | (df['dropoff_latitude'] == 0.0)].shape"
   ]
  },
  {
   "cell_type": "code",
   "execution_count": 6,
   "id": "15f868b4",
   "metadata": {},
   "outputs": [],
   "source": [
    "# Storing index of rows with no coordinates - to drop; .index\n",
    "no_coordinates = df.loc[( (df['pickup_longitude'] == 0) | (df['pickup_latitude'] == 0) | (df['dropoff_longitude'] == 0) | (df['dropoff_latitude'] == 0) )].index"
   ]
  },
  {
   "cell_type": "markdown",
   "id": "9f12df42",
   "metadata": {},
   "source": [
    "We have __3968 rows__ that have a longitude and latitude of 0, but aren't referenced as null coordinates. \n",
    "- We will need to drop these rows, as the geolocation of the ride is an important factor of the ride fare"
   ]
  },
  {
   "cell_type": "code",
   "execution_count": 7,
   "id": "fa479a43",
   "metadata": {},
   "outputs": [
    {
     "data": {
      "text/html": [
       "<div>\n",
       "<style scoped>\n",
       "    .dataframe tbody tr th:only-of-type {\n",
       "        vertical-align: middle;\n",
       "    }\n",
       "\n",
       "    .dataframe tbody tr th {\n",
       "        vertical-align: top;\n",
       "    }\n",
       "\n",
       "    .dataframe thead th {\n",
       "        text-align: right;\n",
       "    }\n",
       "</style>\n",
       "<table border=\"1\" class=\"dataframe\">\n",
       "  <thead>\n",
       "    <tr style=\"text-align: right;\">\n",
       "      <th></th>\n",
       "      <th>Unnamed: 0</th>\n",
       "      <th>key</th>\n",
       "      <th>fare_amount</th>\n",
       "      <th>pickup_datetime</th>\n",
       "      <th>pickup_longitude</th>\n",
       "      <th>pickup_latitude</th>\n",
       "      <th>dropoff_longitude</th>\n",
       "      <th>dropoff_latitude</th>\n",
       "      <th>passenger_count</th>\n",
       "    </tr>\n",
       "  </thead>\n",
       "  <tbody>\n",
       "    <tr>\n",
       "      <th>0</th>\n",
       "      <td>24238194</td>\n",
       "      <td>2015-05-07 19:52:06.0000003</td>\n",
       "      <td>7.5</td>\n",
       "      <td>2015-05-07 19:52:06 UTC</td>\n",
       "      <td>-73.999817</td>\n",
       "      <td>40.738354</td>\n",
       "      <td>-73.999512</td>\n",
       "      <td>40.723217</td>\n",
       "      <td>1</td>\n",
       "    </tr>\n",
       "    <tr>\n",
       "      <th>1</th>\n",
       "      <td>27835199</td>\n",
       "      <td>2009-07-17 20:04:56.0000002</td>\n",
       "      <td>7.7</td>\n",
       "      <td>2009-07-17 20:04:56 UTC</td>\n",
       "      <td>-73.994355</td>\n",
       "      <td>40.728225</td>\n",
       "      <td>-73.994710</td>\n",
       "      <td>40.750325</td>\n",
       "      <td>1</td>\n",
       "    </tr>\n",
       "    <tr>\n",
       "      <th>2</th>\n",
       "      <td>44984355</td>\n",
       "      <td>2009-08-24 21:45:00.00000061</td>\n",
       "      <td>12.9</td>\n",
       "      <td>2009-08-24 21:45:00 UTC</td>\n",
       "      <td>-74.005043</td>\n",
       "      <td>40.740770</td>\n",
       "      <td>-73.962565</td>\n",
       "      <td>40.772647</td>\n",
       "      <td>1</td>\n",
       "    </tr>\n",
       "    <tr>\n",
       "      <th>3</th>\n",
       "      <td>25894730</td>\n",
       "      <td>2009-06-26 08:22:21.0000001</td>\n",
       "      <td>5.3</td>\n",
       "      <td>2009-06-26 08:22:21 UTC</td>\n",
       "      <td>-73.976124</td>\n",
       "      <td>40.790844</td>\n",
       "      <td>-73.965316</td>\n",
       "      <td>40.803349</td>\n",
       "      <td>3</td>\n",
       "    </tr>\n",
       "    <tr>\n",
       "      <th>4</th>\n",
       "      <td>17610152</td>\n",
       "      <td>2014-08-28 17:47:00.000000188</td>\n",
       "      <td>16.0</td>\n",
       "      <td>2014-08-28 17:47:00 UTC</td>\n",
       "      <td>-73.925023</td>\n",
       "      <td>40.744085</td>\n",
       "      <td>-73.973082</td>\n",
       "      <td>40.761247</td>\n",
       "      <td>5</td>\n",
       "    </tr>\n",
       "    <tr>\n",
       "      <th>...</th>\n",
       "      <td>...</td>\n",
       "      <td>...</td>\n",
       "      <td>...</td>\n",
       "      <td>...</td>\n",
       "      <td>...</td>\n",
       "      <td>...</td>\n",
       "      <td>...</td>\n",
       "      <td>...</td>\n",
       "      <td>...</td>\n",
       "    </tr>\n",
       "    <tr>\n",
       "      <th>199995</th>\n",
       "      <td>42598914</td>\n",
       "      <td>2012-10-28 10:49:00.00000053</td>\n",
       "      <td>3.0</td>\n",
       "      <td>2012-10-28 10:49:00 UTC</td>\n",
       "      <td>-73.987042</td>\n",
       "      <td>40.739367</td>\n",
       "      <td>-73.986525</td>\n",
       "      <td>40.740297</td>\n",
       "      <td>1</td>\n",
       "    </tr>\n",
       "    <tr>\n",
       "      <th>199996</th>\n",
       "      <td>16382965</td>\n",
       "      <td>2014-03-14 01:09:00.0000008</td>\n",
       "      <td>7.5</td>\n",
       "      <td>2014-03-14 01:09:00 UTC</td>\n",
       "      <td>-73.984722</td>\n",
       "      <td>40.736837</td>\n",
       "      <td>-74.006672</td>\n",
       "      <td>40.739620</td>\n",
       "      <td>1</td>\n",
       "    </tr>\n",
       "    <tr>\n",
       "      <th>199997</th>\n",
       "      <td>27804658</td>\n",
       "      <td>2009-06-29 00:42:00.00000078</td>\n",
       "      <td>30.9</td>\n",
       "      <td>2009-06-29 00:42:00 UTC</td>\n",
       "      <td>-73.986017</td>\n",
       "      <td>40.756487</td>\n",
       "      <td>-73.858957</td>\n",
       "      <td>40.692588</td>\n",
       "      <td>2</td>\n",
       "    </tr>\n",
       "    <tr>\n",
       "      <th>199998</th>\n",
       "      <td>20259894</td>\n",
       "      <td>2015-05-20 14:56:25.0000004</td>\n",
       "      <td>14.5</td>\n",
       "      <td>2015-05-20 14:56:25 UTC</td>\n",
       "      <td>-73.997124</td>\n",
       "      <td>40.725452</td>\n",
       "      <td>-73.983215</td>\n",
       "      <td>40.695415</td>\n",
       "      <td>1</td>\n",
       "    </tr>\n",
       "    <tr>\n",
       "      <th>199999</th>\n",
       "      <td>11951496</td>\n",
       "      <td>2010-05-15 04:08:00.00000076</td>\n",
       "      <td>14.1</td>\n",
       "      <td>2010-05-15 04:08:00 UTC</td>\n",
       "      <td>-73.984395</td>\n",
       "      <td>40.720077</td>\n",
       "      <td>-73.985508</td>\n",
       "      <td>40.768793</td>\n",
       "      <td>1</td>\n",
       "    </tr>\n",
       "  </tbody>\n",
       "</table>\n",
       "<p>199999 rows × 9 columns</p>\n",
       "</div>"
      ],
      "text/plain": [
       "        Unnamed: 0                            key  fare_amount  \\\n",
       "0         24238194    2015-05-07 19:52:06.0000003          7.5   \n",
       "1         27835199    2009-07-17 20:04:56.0000002          7.7   \n",
       "2         44984355   2009-08-24 21:45:00.00000061         12.9   \n",
       "3         25894730    2009-06-26 08:22:21.0000001          5.3   \n",
       "4         17610152  2014-08-28 17:47:00.000000188         16.0   \n",
       "...            ...                            ...          ...   \n",
       "199995    42598914   2012-10-28 10:49:00.00000053          3.0   \n",
       "199996    16382965    2014-03-14 01:09:00.0000008          7.5   \n",
       "199997    27804658   2009-06-29 00:42:00.00000078         30.9   \n",
       "199998    20259894    2015-05-20 14:56:25.0000004         14.5   \n",
       "199999    11951496   2010-05-15 04:08:00.00000076         14.1   \n",
       "\n",
       "                pickup_datetime  pickup_longitude  pickup_latitude  \\\n",
       "0       2015-05-07 19:52:06 UTC        -73.999817        40.738354   \n",
       "1       2009-07-17 20:04:56 UTC        -73.994355        40.728225   \n",
       "2       2009-08-24 21:45:00 UTC        -74.005043        40.740770   \n",
       "3       2009-06-26 08:22:21 UTC        -73.976124        40.790844   \n",
       "4       2014-08-28 17:47:00 UTC        -73.925023        40.744085   \n",
       "...                         ...               ...              ...   \n",
       "199995  2012-10-28 10:49:00 UTC        -73.987042        40.739367   \n",
       "199996  2014-03-14 01:09:00 UTC        -73.984722        40.736837   \n",
       "199997  2009-06-29 00:42:00 UTC        -73.986017        40.756487   \n",
       "199998  2015-05-20 14:56:25 UTC        -73.997124        40.725452   \n",
       "199999  2010-05-15 04:08:00 UTC        -73.984395        40.720077   \n",
       "\n",
       "        dropoff_longitude  dropoff_latitude  passenger_count  \n",
       "0              -73.999512         40.723217                1  \n",
       "1              -73.994710         40.750325                1  \n",
       "2              -73.962565         40.772647                1  \n",
       "3              -73.965316         40.803349                3  \n",
       "4              -73.973082         40.761247                5  \n",
       "...                   ...               ...              ...  \n",
       "199995         -73.986525         40.740297                1  \n",
       "199996         -74.006672         40.739620                1  \n",
       "199997         -73.858957         40.692588                2  \n",
       "199998         -73.983215         40.695415                1  \n",
       "199999         -73.985508         40.768793                1  \n",
       "\n",
       "[199999 rows x 9 columns]"
      ]
     },
     "execution_count": 7,
     "metadata": {},
     "output_type": "execute_result"
    }
   ],
   "source": [
    "# Storing index of rows with null values - to drop; .index\n",
    "df.dropna()"
   ]
  },
  {
   "cell_type": "markdown",
   "id": "f5235933",
   "metadata": {},
   "source": [
    "The row with null values for both; \"dropoff_longitude\" and \"dropoff_latitude\", has been located - we can drop it accordingly."
   ]
  },
  {
   "cell_type": "code",
   "execution_count": 8,
   "id": "3da090c5",
   "metadata": {
    "scrolled": true
   },
   "outputs": [
    {
     "data": {
      "text/html": [
       "<div>\n",
       "<style scoped>\n",
       "    .dataframe tbody tr th:only-of-type {\n",
       "        vertical-align: middle;\n",
       "    }\n",
       "\n",
       "    .dataframe tbody tr th {\n",
       "        vertical-align: top;\n",
       "    }\n",
       "\n",
       "    .dataframe thead th {\n",
       "        text-align: right;\n",
       "    }\n",
       "</style>\n",
       "<table border=\"1\" class=\"dataframe\">\n",
       "  <thead>\n",
       "    <tr style=\"text-align: right;\">\n",
       "      <th></th>\n",
       "      <th>Unnamed: 0</th>\n",
       "      <th>key</th>\n",
       "      <th>fare_amount</th>\n",
       "      <th>pickup_datetime</th>\n",
       "      <th>pickup_longitude</th>\n",
       "      <th>pickup_latitude</th>\n",
       "      <th>dropoff_longitude</th>\n",
       "      <th>dropoff_latitude</th>\n",
       "      <th>passenger_count</th>\n",
       "    </tr>\n",
       "  </thead>\n",
       "  <tbody>\n",
       "    <tr>\n",
       "      <th>0</th>\n",
       "      <td>24238194</td>\n",
       "      <td>2015-05-07 19:52:06.0000003</td>\n",
       "      <td>7.5</td>\n",
       "      <td>2015-05-07 19:52:06 UTC</td>\n",
       "      <td>-73.999817</td>\n",
       "      <td>40.738354</td>\n",
       "      <td>-73.999512</td>\n",
       "      <td>40.723217</td>\n",
       "      <td>1</td>\n",
       "    </tr>\n",
       "    <tr>\n",
       "      <th>1</th>\n",
       "      <td>27835199</td>\n",
       "      <td>2009-07-17 20:04:56.0000002</td>\n",
       "      <td>7.7</td>\n",
       "      <td>2009-07-17 20:04:56 UTC</td>\n",
       "      <td>-73.994355</td>\n",
       "      <td>40.728225</td>\n",
       "      <td>-73.994710</td>\n",
       "      <td>40.750325</td>\n",
       "      <td>1</td>\n",
       "    </tr>\n",
       "    <tr>\n",
       "      <th>2</th>\n",
       "      <td>44984355</td>\n",
       "      <td>2009-08-24 21:45:00.00000061</td>\n",
       "      <td>12.9</td>\n",
       "      <td>2009-08-24 21:45:00 UTC</td>\n",
       "      <td>-74.005043</td>\n",
       "      <td>40.740770</td>\n",
       "      <td>-73.962565</td>\n",
       "      <td>40.772647</td>\n",
       "      <td>1</td>\n",
       "    </tr>\n",
       "    <tr>\n",
       "      <th>3</th>\n",
       "      <td>25894730</td>\n",
       "      <td>2009-06-26 08:22:21.0000001</td>\n",
       "      <td>5.3</td>\n",
       "      <td>2009-06-26 08:22:21 UTC</td>\n",
       "      <td>-73.976124</td>\n",
       "      <td>40.790844</td>\n",
       "      <td>-73.965316</td>\n",
       "      <td>40.803349</td>\n",
       "      <td>3</td>\n",
       "    </tr>\n",
       "    <tr>\n",
       "      <th>4</th>\n",
       "      <td>17610152</td>\n",
       "      <td>2014-08-28 17:47:00.000000188</td>\n",
       "      <td>16.0</td>\n",
       "      <td>2014-08-28 17:47:00 UTC</td>\n",
       "      <td>-73.925023</td>\n",
       "      <td>40.744085</td>\n",
       "      <td>-73.973082</td>\n",
       "      <td>40.761247</td>\n",
       "      <td>5</td>\n",
       "    </tr>\n",
       "    <tr>\n",
       "      <th>...</th>\n",
       "      <td>...</td>\n",
       "      <td>...</td>\n",
       "      <td>...</td>\n",
       "      <td>...</td>\n",
       "      <td>...</td>\n",
       "      <td>...</td>\n",
       "      <td>...</td>\n",
       "      <td>...</td>\n",
       "      <td>...</td>\n",
       "    </tr>\n",
       "    <tr>\n",
       "      <th>199995</th>\n",
       "      <td>42598914</td>\n",
       "      <td>2012-10-28 10:49:00.00000053</td>\n",
       "      <td>3.0</td>\n",
       "      <td>2012-10-28 10:49:00 UTC</td>\n",
       "      <td>-73.987042</td>\n",
       "      <td>40.739367</td>\n",
       "      <td>-73.986525</td>\n",
       "      <td>40.740297</td>\n",
       "      <td>1</td>\n",
       "    </tr>\n",
       "    <tr>\n",
       "      <th>199996</th>\n",
       "      <td>16382965</td>\n",
       "      <td>2014-03-14 01:09:00.0000008</td>\n",
       "      <td>7.5</td>\n",
       "      <td>2014-03-14 01:09:00 UTC</td>\n",
       "      <td>-73.984722</td>\n",
       "      <td>40.736837</td>\n",
       "      <td>-74.006672</td>\n",
       "      <td>40.739620</td>\n",
       "      <td>1</td>\n",
       "    </tr>\n",
       "    <tr>\n",
       "      <th>199997</th>\n",
       "      <td>27804658</td>\n",
       "      <td>2009-06-29 00:42:00.00000078</td>\n",
       "      <td>30.9</td>\n",
       "      <td>2009-06-29 00:42:00 UTC</td>\n",
       "      <td>-73.986017</td>\n",
       "      <td>40.756487</td>\n",
       "      <td>-73.858957</td>\n",
       "      <td>40.692588</td>\n",
       "      <td>2</td>\n",
       "    </tr>\n",
       "    <tr>\n",
       "      <th>199998</th>\n",
       "      <td>20259894</td>\n",
       "      <td>2015-05-20 14:56:25.0000004</td>\n",
       "      <td>14.5</td>\n",
       "      <td>2015-05-20 14:56:25 UTC</td>\n",
       "      <td>-73.997124</td>\n",
       "      <td>40.725452</td>\n",
       "      <td>-73.983215</td>\n",
       "      <td>40.695415</td>\n",
       "      <td>1</td>\n",
       "    </tr>\n",
       "    <tr>\n",
       "      <th>199999</th>\n",
       "      <td>11951496</td>\n",
       "      <td>2010-05-15 04:08:00.00000076</td>\n",
       "      <td>14.1</td>\n",
       "      <td>2010-05-15 04:08:00 UTC</td>\n",
       "      <td>-73.984395</td>\n",
       "      <td>40.720077</td>\n",
       "      <td>-73.985508</td>\n",
       "      <td>40.768793</td>\n",
       "      <td>1</td>\n",
       "    </tr>\n",
       "  </tbody>\n",
       "</table>\n",
       "<p>196032 rows × 9 columns</p>\n",
       "</div>"
      ],
      "text/plain": [
       "        Unnamed: 0                            key  fare_amount  \\\n",
       "0         24238194    2015-05-07 19:52:06.0000003          7.5   \n",
       "1         27835199    2009-07-17 20:04:56.0000002          7.7   \n",
       "2         44984355   2009-08-24 21:45:00.00000061         12.9   \n",
       "3         25894730    2009-06-26 08:22:21.0000001          5.3   \n",
       "4         17610152  2014-08-28 17:47:00.000000188         16.0   \n",
       "...            ...                            ...          ...   \n",
       "199995    42598914   2012-10-28 10:49:00.00000053          3.0   \n",
       "199996    16382965    2014-03-14 01:09:00.0000008          7.5   \n",
       "199997    27804658   2009-06-29 00:42:00.00000078         30.9   \n",
       "199998    20259894    2015-05-20 14:56:25.0000004         14.5   \n",
       "199999    11951496   2010-05-15 04:08:00.00000076         14.1   \n",
       "\n",
       "                pickup_datetime  pickup_longitude  pickup_latitude  \\\n",
       "0       2015-05-07 19:52:06 UTC        -73.999817        40.738354   \n",
       "1       2009-07-17 20:04:56 UTC        -73.994355        40.728225   \n",
       "2       2009-08-24 21:45:00 UTC        -74.005043        40.740770   \n",
       "3       2009-06-26 08:22:21 UTC        -73.976124        40.790844   \n",
       "4       2014-08-28 17:47:00 UTC        -73.925023        40.744085   \n",
       "...                         ...               ...              ...   \n",
       "199995  2012-10-28 10:49:00 UTC        -73.987042        40.739367   \n",
       "199996  2014-03-14 01:09:00 UTC        -73.984722        40.736837   \n",
       "199997  2009-06-29 00:42:00 UTC        -73.986017        40.756487   \n",
       "199998  2015-05-20 14:56:25 UTC        -73.997124        40.725452   \n",
       "199999  2010-05-15 04:08:00 UTC        -73.984395        40.720077   \n",
       "\n",
       "        dropoff_longitude  dropoff_latitude  passenger_count  \n",
       "0              -73.999512         40.723217                1  \n",
       "1              -73.994710         40.750325                1  \n",
       "2              -73.962565         40.772647                1  \n",
       "3              -73.965316         40.803349                3  \n",
       "4              -73.973082         40.761247                5  \n",
       "...                   ...               ...              ...  \n",
       "199995         -73.986525         40.740297                1  \n",
       "199996         -74.006672         40.739620                1  \n",
       "199997         -73.858957         40.692588                2  \n",
       "199998         -73.983215         40.695415                1  \n",
       "199999         -73.985508         40.768793                1  \n",
       "\n",
       "[196032 rows x 9 columns]"
      ]
     },
     "execution_count": 8,
     "metadata": {},
     "output_type": "execute_result"
    }
   ],
   "source": [
    "# Dropping rows that are: null and have coordinates of 0\n",
    "df.drop(no_coordinates) # dropping rows with no coordinates"
   ]
  },
  {
   "cell_type": "code",
   "execution_count": 9,
   "id": "8d084021",
   "metadata": {
    "scrolled": true
   },
   "outputs": [
    {
     "data": {
      "text/html": [
       "<div>\n",
       "<style scoped>\n",
       "    .dataframe tbody tr th:only-of-type {\n",
       "        vertical-align: middle;\n",
       "    }\n",
       "\n",
       "    .dataframe tbody tr th {\n",
       "        vertical-align: top;\n",
       "    }\n",
       "\n",
       "    .dataframe thead th {\n",
       "        text-align: right;\n",
       "    }\n",
       "</style>\n",
       "<table border=\"1\" class=\"dataframe\">\n",
       "  <thead>\n",
       "    <tr style=\"text-align: right;\">\n",
       "      <th></th>\n",
       "      <th>fare_amount</th>\n",
       "      <th>pickup_datetime</th>\n",
       "      <th>pickup_longitude</th>\n",
       "      <th>pickup_latitude</th>\n",
       "      <th>dropoff_longitude</th>\n",
       "      <th>dropoff_latitude</th>\n",
       "      <th>passenger_count</th>\n",
       "    </tr>\n",
       "  </thead>\n",
       "  <tbody>\n",
       "    <tr>\n",
       "      <th>0</th>\n",
       "      <td>7.5</td>\n",
       "      <td>2015-05-07 19:52:06 UTC</td>\n",
       "      <td>-73.999817</td>\n",
       "      <td>40.738354</td>\n",
       "      <td>-73.999512</td>\n",
       "      <td>40.723217</td>\n",
       "      <td>1</td>\n",
       "    </tr>\n",
       "    <tr>\n",
       "      <th>1</th>\n",
       "      <td>7.7</td>\n",
       "      <td>2009-07-17 20:04:56 UTC</td>\n",
       "      <td>-73.994355</td>\n",
       "      <td>40.728225</td>\n",
       "      <td>-73.994710</td>\n",
       "      <td>40.750325</td>\n",
       "      <td>1</td>\n",
       "    </tr>\n",
       "    <tr>\n",
       "      <th>2</th>\n",
       "      <td>12.9</td>\n",
       "      <td>2009-08-24 21:45:00 UTC</td>\n",
       "      <td>-74.005043</td>\n",
       "      <td>40.740770</td>\n",
       "      <td>-73.962565</td>\n",
       "      <td>40.772647</td>\n",
       "      <td>1</td>\n",
       "    </tr>\n",
       "    <tr>\n",
       "      <th>3</th>\n",
       "      <td>5.3</td>\n",
       "      <td>2009-06-26 08:22:21 UTC</td>\n",
       "      <td>-73.976124</td>\n",
       "      <td>40.790844</td>\n",
       "      <td>-73.965316</td>\n",
       "      <td>40.803349</td>\n",
       "      <td>3</td>\n",
       "    </tr>\n",
       "    <tr>\n",
       "      <th>4</th>\n",
       "      <td>16.0</td>\n",
       "      <td>2014-08-28 17:47:00 UTC</td>\n",
       "      <td>-73.925023</td>\n",
       "      <td>40.744085</td>\n",
       "      <td>-73.973082</td>\n",
       "      <td>40.761247</td>\n",
       "      <td>5</td>\n",
       "    </tr>\n",
       "    <tr>\n",
       "      <th>...</th>\n",
       "      <td>...</td>\n",
       "      <td>...</td>\n",
       "      <td>...</td>\n",
       "      <td>...</td>\n",
       "      <td>...</td>\n",
       "      <td>...</td>\n",
       "      <td>...</td>\n",
       "    </tr>\n",
       "    <tr>\n",
       "      <th>199995</th>\n",
       "      <td>3.0</td>\n",
       "      <td>2012-10-28 10:49:00 UTC</td>\n",
       "      <td>-73.987042</td>\n",
       "      <td>40.739367</td>\n",
       "      <td>-73.986525</td>\n",
       "      <td>40.740297</td>\n",
       "      <td>1</td>\n",
       "    </tr>\n",
       "    <tr>\n",
       "      <th>199996</th>\n",
       "      <td>7.5</td>\n",
       "      <td>2014-03-14 01:09:00 UTC</td>\n",
       "      <td>-73.984722</td>\n",
       "      <td>40.736837</td>\n",
       "      <td>-74.006672</td>\n",
       "      <td>40.739620</td>\n",
       "      <td>1</td>\n",
       "    </tr>\n",
       "    <tr>\n",
       "      <th>199997</th>\n",
       "      <td>30.9</td>\n",
       "      <td>2009-06-29 00:42:00 UTC</td>\n",
       "      <td>-73.986017</td>\n",
       "      <td>40.756487</td>\n",
       "      <td>-73.858957</td>\n",
       "      <td>40.692588</td>\n",
       "      <td>2</td>\n",
       "    </tr>\n",
       "    <tr>\n",
       "      <th>199998</th>\n",
       "      <td>14.5</td>\n",
       "      <td>2015-05-20 14:56:25 UTC</td>\n",
       "      <td>-73.997124</td>\n",
       "      <td>40.725452</td>\n",
       "      <td>-73.983215</td>\n",
       "      <td>40.695415</td>\n",
       "      <td>1</td>\n",
       "    </tr>\n",
       "    <tr>\n",
       "      <th>199999</th>\n",
       "      <td>14.1</td>\n",
       "      <td>2010-05-15 04:08:00 UTC</td>\n",
       "      <td>-73.984395</td>\n",
       "      <td>40.720077</td>\n",
       "      <td>-73.985508</td>\n",
       "      <td>40.768793</td>\n",
       "      <td>1</td>\n",
       "    </tr>\n",
       "  </tbody>\n",
       "</table>\n",
       "<p>200000 rows × 7 columns</p>\n",
       "</div>"
      ],
      "text/plain": [
       "        fare_amount          pickup_datetime  pickup_longitude  \\\n",
       "0               7.5  2015-05-07 19:52:06 UTC        -73.999817   \n",
       "1               7.7  2009-07-17 20:04:56 UTC        -73.994355   \n",
       "2              12.9  2009-08-24 21:45:00 UTC        -74.005043   \n",
       "3               5.3  2009-06-26 08:22:21 UTC        -73.976124   \n",
       "4              16.0  2014-08-28 17:47:00 UTC        -73.925023   \n",
       "...             ...                      ...               ...   \n",
       "199995          3.0  2012-10-28 10:49:00 UTC        -73.987042   \n",
       "199996          7.5  2014-03-14 01:09:00 UTC        -73.984722   \n",
       "199997         30.9  2009-06-29 00:42:00 UTC        -73.986017   \n",
       "199998         14.5  2015-05-20 14:56:25 UTC        -73.997124   \n",
       "199999         14.1  2010-05-15 04:08:00 UTC        -73.984395   \n",
       "\n",
       "        pickup_latitude  dropoff_longitude  dropoff_latitude  passenger_count  \n",
       "0             40.738354         -73.999512         40.723217                1  \n",
       "1             40.728225         -73.994710         40.750325                1  \n",
       "2             40.740770         -73.962565         40.772647                1  \n",
       "3             40.790844         -73.965316         40.803349                3  \n",
       "4             40.744085         -73.973082         40.761247                5  \n",
       "...                 ...                ...               ...              ...  \n",
       "199995        40.739367         -73.986525         40.740297                1  \n",
       "199996        40.736837         -74.006672         40.739620                1  \n",
       "199997        40.756487         -73.858957         40.692588                2  \n",
       "199998        40.725452         -73.983215         40.695415                1  \n",
       "199999        40.720077         -73.985508         40.768793                1  \n",
       "\n",
       "[200000 rows x 7 columns]"
      ]
     },
     "execution_count": 9,
     "metadata": {},
     "output_type": "execute_result"
    }
   ],
   "source": [
    "# As we're not using cols: Unnamed: 0 & key, we can drop it\n",
    "cols_to_drop = ['key', 'Unnamed: 0']\n",
    "df.drop(cols_to_drop, axis='columns')"
   ]
  },
  {
   "cell_type": "code",
   "execution_count": 10,
   "id": "6184e39e",
   "metadata": {},
   "outputs": [],
   "source": [
    "# Converting the date columns to have just the time\n",
    "df['pickup_datetime'] = pd.to_datetime(df[\"pickup_datetime\"]) # Converting our date/time column to DateTime dtype\n",
    "df['pickup_datetime'] = df['pickup_datetime'].dt.time # We just want the time, \n",
    "                                                      # as the data won't influence price like the time will"
   ]
  },
  {
   "cell_type": "code",
   "execution_count": 11,
   "id": "7aad8fe5",
   "metadata": {},
   "outputs": [
    {
     "data": {
      "text/plain": [
       "0         19:52:06\n",
       "1         20:04:56\n",
       "2         21:45:00\n",
       "3         08:22:21\n",
       "4         17:47:00\n",
       "            ...   \n",
       "199995    10:49:00\n",
       "199996    01:09:00\n",
       "199997    00:42:00\n",
       "199998    14:56:25\n",
       "199999    04:08:00\n",
       "Name: pickup_datetime_str, Length: 200000, dtype: object"
      ]
     },
     "execution_count": 11,
     "metadata": {},
     "output_type": "execute_result"
    }
   ],
   "source": [
    "# Need a duplicate column of the time column, this is so we can plot/use this data in a loop.\n",
    "## As a dtype of DateTime, we can't use the values for some functions.\n",
    "df['pickup_datetime_str'] = df['pickup_datetime'].astype(str)\n",
    "df['pickup_datetime_str']"
   ]
  },
  {
   "cell_type": "code",
   "execution_count": 12,
   "id": "0eae24a8",
   "metadata": {},
   "outputs": [
    {
     "data": {
      "text/html": [
       "<div>\n",
       "<style scoped>\n",
       "    .dataframe tbody tr th:only-of-type {\n",
       "        vertical-align: middle;\n",
       "    }\n",
       "\n",
       "    .dataframe tbody tr th {\n",
       "        vertical-align: top;\n",
       "    }\n",
       "\n",
       "    .dataframe thead th {\n",
       "        text-align: right;\n",
       "    }\n",
       "</style>\n",
       "<table border=\"1\" class=\"dataframe\">\n",
       "  <thead>\n",
       "    <tr style=\"text-align: right;\">\n",
       "      <th></th>\n",
       "      <th>Unnamed: 0</th>\n",
       "      <th>key</th>\n",
       "      <th>fare_amount</th>\n",
       "      <th>pickup_datetime</th>\n",
       "      <th>pickup_longitude</th>\n",
       "      <th>pickup_latitude</th>\n",
       "      <th>dropoff_longitude</th>\n",
       "      <th>dropoff_latitude</th>\n",
       "      <th>passenger_count</th>\n",
       "      <th>pickup_datetime_str</th>\n",
       "    </tr>\n",
       "  </thead>\n",
       "  <tbody>\n",
       "    <tr>\n",
       "      <th>0</th>\n",
       "      <td>24238194</td>\n",
       "      <td>2015-05-07 19:52:06.0000003</td>\n",
       "      <td>7.5</td>\n",
       "      <td>19:52:06</td>\n",
       "      <td>-73.999817</td>\n",
       "      <td>40.738354</td>\n",
       "      <td>-73.999512</td>\n",
       "      <td>40.723217</td>\n",
       "      <td>1</td>\n",
       "      <td>19:52:06</td>\n",
       "    </tr>\n",
       "    <tr>\n",
       "      <th>1</th>\n",
       "      <td>27835199</td>\n",
       "      <td>2009-07-17 20:04:56.0000002</td>\n",
       "      <td>7.7</td>\n",
       "      <td>20:04:56</td>\n",
       "      <td>-73.994355</td>\n",
       "      <td>40.728225</td>\n",
       "      <td>-73.994710</td>\n",
       "      <td>40.750325</td>\n",
       "      <td>1</td>\n",
       "      <td>20:04:56</td>\n",
       "    </tr>\n",
       "    <tr>\n",
       "      <th>2</th>\n",
       "      <td>44984355</td>\n",
       "      <td>2009-08-24 21:45:00.00000061</td>\n",
       "      <td>12.9</td>\n",
       "      <td>21:45:00</td>\n",
       "      <td>-74.005043</td>\n",
       "      <td>40.740770</td>\n",
       "      <td>-73.962565</td>\n",
       "      <td>40.772647</td>\n",
       "      <td>1</td>\n",
       "      <td>21:45:00</td>\n",
       "    </tr>\n",
       "    <tr>\n",
       "      <th>3</th>\n",
       "      <td>25894730</td>\n",
       "      <td>2009-06-26 08:22:21.0000001</td>\n",
       "      <td>5.3</td>\n",
       "      <td>08:22:21</td>\n",
       "      <td>-73.976124</td>\n",
       "      <td>40.790844</td>\n",
       "      <td>-73.965316</td>\n",
       "      <td>40.803349</td>\n",
       "      <td>3</td>\n",
       "      <td>08:22:21</td>\n",
       "    </tr>\n",
       "    <tr>\n",
       "      <th>4</th>\n",
       "      <td>17610152</td>\n",
       "      <td>2014-08-28 17:47:00.000000188</td>\n",
       "      <td>16.0</td>\n",
       "      <td>17:47:00</td>\n",
       "      <td>-73.925023</td>\n",
       "      <td>40.744085</td>\n",
       "      <td>-73.973082</td>\n",
       "      <td>40.761247</td>\n",
       "      <td>5</td>\n",
       "      <td>17:47:00</td>\n",
       "    </tr>\n",
       "  </tbody>\n",
       "</table>\n",
       "</div>"
      ],
      "text/plain": [
       "   Unnamed: 0                            key  fare_amount pickup_datetime  \\\n",
       "0    24238194    2015-05-07 19:52:06.0000003          7.5        19:52:06   \n",
       "1    27835199    2009-07-17 20:04:56.0000002          7.7        20:04:56   \n",
       "2    44984355   2009-08-24 21:45:00.00000061         12.9        21:45:00   \n",
       "3    25894730    2009-06-26 08:22:21.0000001          5.3        08:22:21   \n",
       "4    17610152  2014-08-28 17:47:00.000000188         16.0        17:47:00   \n",
       "\n",
       "   pickup_longitude  pickup_latitude  dropoff_longitude  dropoff_latitude  \\\n",
       "0        -73.999817        40.738354         -73.999512         40.723217   \n",
       "1        -73.994355        40.728225         -73.994710         40.750325   \n",
       "2        -74.005043        40.740770         -73.962565         40.772647   \n",
       "3        -73.976124        40.790844         -73.965316         40.803349   \n",
       "4        -73.925023        40.744085         -73.973082         40.761247   \n",
       "\n",
       "   passenger_count pickup_datetime_str  \n",
       "0                1            19:52:06  \n",
       "1                1            20:04:56  \n",
       "2                1            21:45:00  \n",
       "3                3            08:22:21  \n",
       "4                5            17:47:00  "
      ]
     },
     "execution_count": 12,
     "metadata": {},
     "output_type": "execute_result"
    }
   ],
   "source": [
    "df.head()"
   ]
  },
  {
   "cell_type": "markdown",
   "id": "52e6fa4b",
   "metadata": {},
   "source": [
    "#### Look for any coordinates that are:\n",
    "- Less than -90 \n",
    "- Greater than 90\n",
    "\n",
    "We need to locate these rows, and then drop them accordingly."
   ]
  },
  {
   "cell_type": "code",
   "execution_count": 13,
   "id": "391dd3f7",
   "metadata": {},
   "outputs": [],
   "source": [
    "# Locate any row that has a latitude less than -90, this obviously doesn't make sense and needs to be dropped\n",
    "less_minus_90 = df.loc[(df['pickup_latitude'] < -90) | (df['dropoff_latitude']  > 90)].index\n",
    "\n",
    "# Drop this row(s)\n",
    "df = df.drop(less_minus_90)"
   ]
  },
  {
   "cell_type": "code",
   "execution_count": 14,
   "id": "c6d5deae",
   "metadata": {},
   "outputs": [],
   "source": [
    "# Let's reset the index and drop the extra column as a product of the index reset\n",
    "df.reset_index(drop=True, inplace=True)"
   ]
  },
  {
   "cell_type": "code",
   "execution_count": 15,
   "id": "004f4be8",
   "metadata": {},
   "outputs": [
    {
     "data": {
      "text/html": [
       "<div>\n",
       "<style scoped>\n",
       "    .dataframe tbody tr th:only-of-type {\n",
       "        vertical-align: middle;\n",
       "    }\n",
       "\n",
       "    .dataframe tbody tr th {\n",
       "        vertical-align: top;\n",
       "    }\n",
       "\n",
       "    .dataframe thead th {\n",
       "        text-align: right;\n",
       "    }\n",
       "</style>\n",
       "<table border=\"1\" class=\"dataframe\">\n",
       "  <thead>\n",
       "    <tr style=\"text-align: right;\">\n",
       "      <th></th>\n",
       "      <th>Unnamed: 0</th>\n",
       "      <th>key</th>\n",
       "      <th>fare_amount</th>\n",
       "      <th>pickup_datetime</th>\n",
       "      <th>pickup_longitude</th>\n",
       "      <th>pickup_latitude</th>\n",
       "      <th>dropoff_longitude</th>\n",
       "      <th>dropoff_latitude</th>\n",
       "      <th>passenger_count</th>\n",
       "      <th>pickup_datetime_str</th>\n",
       "    </tr>\n",
       "  </thead>\n",
       "  <tbody>\n",
       "    <tr>\n",
       "      <th>0</th>\n",
       "      <td>24238194</td>\n",
       "      <td>2015-05-07 19:52:06.0000003</td>\n",
       "      <td>7.5</td>\n",
       "      <td>19:52:06</td>\n",
       "      <td>-73.999817</td>\n",
       "      <td>40.738354</td>\n",
       "      <td>-73.999512</td>\n",
       "      <td>40.723217</td>\n",
       "      <td>1</td>\n",
       "      <td>19:52:06</td>\n",
       "    </tr>\n",
       "    <tr>\n",
       "      <th>1</th>\n",
       "      <td>27835199</td>\n",
       "      <td>2009-07-17 20:04:56.0000002</td>\n",
       "      <td>7.7</td>\n",
       "      <td>20:04:56</td>\n",
       "      <td>-73.994355</td>\n",
       "      <td>40.728225</td>\n",
       "      <td>-73.994710</td>\n",
       "      <td>40.750325</td>\n",
       "      <td>1</td>\n",
       "      <td>20:04:56</td>\n",
       "    </tr>\n",
       "    <tr>\n",
       "      <th>2</th>\n",
       "      <td>44984355</td>\n",
       "      <td>2009-08-24 21:45:00.00000061</td>\n",
       "      <td>12.9</td>\n",
       "      <td>21:45:00</td>\n",
       "      <td>-74.005043</td>\n",
       "      <td>40.740770</td>\n",
       "      <td>-73.962565</td>\n",
       "      <td>40.772647</td>\n",
       "      <td>1</td>\n",
       "      <td>21:45:00</td>\n",
       "    </tr>\n",
       "    <tr>\n",
       "      <th>3</th>\n",
       "      <td>25894730</td>\n",
       "      <td>2009-06-26 08:22:21.0000001</td>\n",
       "      <td>5.3</td>\n",
       "      <td>08:22:21</td>\n",
       "      <td>-73.976124</td>\n",
       "      <td>40.790844</td>\n",
       "      <td>-73.965316</td>\n",
       "      <td>40.803349</td>\n",
       "      <td>3</td>\n",
       "      <td>08:22:21</td>\n",
       "    </tr>\n",
       "    <tr>\n",
       "      <th>4</th>\n",
       "      <td>17610152</td>\n",
       "      <td>2014-08-28 17:47:00.000000188</td>\n",
       "      <td>16.0</td>\n",
       "      <td>17:47:00</td>\n",
       "      <td>-73.925023</td>\n",
       "      <td>40.744085</td>\n",
       "      <td>-73.973082</td>\n",
       "      <td>40.761247</td>\n",
       "      <td>5</td>\n",
       "      <td>17:47:00</td>\n",
       "    </tr>\n",
       "  </tbody>\n",
       "</table>\n",
       "</div>"
      ],
      "text/plain": [
       "   Unnamed: 0                            key  fare_amount pickup_datetime  \\\n",
       "0    24238194    2015-05-07 19:52:06.0000003          7.5        19:52:06   \n",
       "1    27835199    2009-07-17 20:04:56.0000002          7.7        20:04:56   \n",
       "2    44984355   2009-08-24 21:45:00.00000061         12.9        21:45:00   \n",
       "3    25894730    2009-06-26 08:22:21.0000001          5.3        08:22:21   \n",
       "4    17610152  2014-08-28 17:47:00.000000188         16.0        17:47:00   \n",
       "\n",
       "   pickup_longitude  pickup_latitude  dropoff_longitude  dropoff_latitude  \\\n",
       "0        -73.999817        40.738354         -73.999512         40.723217   \n",
       "1        -73.994355        40.728225         -73.994710         40.750325   \n",
       "2        -74.005043        40.740770         -73.962565         40.772647   \n",
       "3        -73.976124        40.790844         -73.965316         40.803349   \n",
       "4        -73.925023        40.744085         -73.973082         40.761247   \n",
       "\n",
       "   passenger_count pickup_datetime_str  \n",
       "0                1            19:52:06  \n",
       "1                1            20:04:56  \n",
       "2                1            21:45:00  \n",
       "3                3            08:22:21  \n",
       "4                5            17:47:00  "
      ]
     },
     "execution_count": 15,
     "metadata": {},
     "output_type": "execute_result"
    }
   ],
   "source": [
    "df.head()"
   ]
  },
  {
   "cell_type": "markdown",
   "id": "f31a9d63",
   "metadata": {},
   "source": [
    "### Calculating ride distance (pickup -> dropoff) - Geodesic\n",
    "\n",
    "#### New columns: Calculated pickup to dropoff distance\n",
    "\n",
    "We will create a loop that will interate through each index of the df."
   ]
  },
  {
   "cell_type": "code",
   "execution_count": 16,
   "id": "081e94c5",
   "metadata": {},
   "outputs": [],
   "source": [
    "# Empty variables, to append with the loop\n",
    "ride_distance_mi = []\n",
    "ride_distance_km = []"
   ]
  },
  {
   "cell_type": "markdown",
   "id": "47ee4f1f",
   "metadata": {},
   "source": [
    "#### I'm just going to use 50000 samples, there's arrors in this data, that I don't know how to clean yet.\n",
    "\n",
    "There are some rows (index > 50000) where their coordinates are wrong. "
   ]
  },
  {
   "cell_type": "code",
   "execution_count": 17,
   "id": "416fcbd3",
   "metadata": {},
   "outputs": [],
   "source": [
    "for i in np.arange(0, 50000): # loop interates through the first 50k samples\n",
    "    \n",
    "    # Specifying pick up - lat/long\n",
    "    pick_up_lat = df.pickup_latitude\n",
    "    pick_up_long = df.pickup_longitude\n",
    "    \n",
    "    # Specifying drop off - lat/long\n",
    "    drop_off_lat = df.dropoff_latitude\n",
    "    drop_off_long = df.dropoff_longitude\n",
    "    \n",
    "    # Calculating distances - Miles/KM\n",
    "    ## And appending to empty variables\n",
    "    ride_distance_mi.append(geodesic((pick_up_lat[i], pick_up_long[i]), (drop_off_lat[i], drop_off_long[i])).miles)\n",
    "    ride_distance_km.append(geodesic((pick_up_lat[i], pick_up_long[i]), (drop_off_lat[i], drop_off_long[i])).km)\n"
   ]
  },
  {
   "cell_type": "markdown",
   "id": "20965ffb",
   "metadata": {},
   "source": [
    "Using __geopy - geodesic__, we calculated this distance between the origin (pickup) point and an end (dropoff) point.\n",
    "- Syntax: __geodesic(*latitude*, *longitude*).*unit_of_measurement*__"
   ]
  },
  {
   "cell_type": "code",
   "execution_count": 18,
   "id": "942e429a",
   "metadata": {},
   "outputs": [
    {
     "data": {
      "text/plain": [
       "50000"
      ]
     },
     "execution_count": 18,
     "metadata": {},
     "output_type": "execute_result"
    }
   ],
   "source": [
    "len(ride_distance_mi)"
   ]
  },
  {
   "cell_type": "code",
   "execution_count": 74,
   "id": "38ce90fa",
   "metadata": {},
   "outputs": [
    {
     "data": {
      "text/plain": [
       "[1.0445937861491572,\n",
       " 1.5250706123331683,\n",
       " 3.1314639281870544,\n",
       " 1.0323719006396994,\n",
       " 2.7860607099396897,\n",
       " 0.0,\n",
       " 7.291584115691231,\n",
       " 0.0,\n",
       " 1.4531136025314275,\n",
       " 3.03920190901205]"
      ]
     },
     "execution_count": 74,
     "metadata": {},
     "output_type": "execute_result"
    }
   ],
   "source": [
    "# Print our distances\n",
    "ride_distance_mi[0:10]"
   ]
  },
  {
   "cell_type": "markdown",
   "id": "b68fce73",
   "metadata": {},
   "source": [
    "Now that we've calculated this distance from the pickup location to the dropoff location in miles & kilometers, we can apply them to the df.\n",
    "\n",
    "Since we have only 50k, we'll need to locate the first 50k values of out df and apply the distance values after this."
   ]
  },
  {
   "cell_type": "code",
   "execution_count": 20,
   "id": "37cf11d0",
   "metadata": {},
   "outputs": [
    {
     "data": {
      "text/html": [
       "<div>\n",
       "<style scoped>\n",
       "    .dataframe tbody tr th:only-of-type {\n",
       "        vertical-align: middle;\n",
       "    }\n",
       "\n",
       "    .dataframe tbody tr th {\n",
       "        vertical-align: top;\n",
       "    }\n",
       "\n",
       "    .dataframe thead th {\n",
       "        text-align: right;\n",
       "    }\n",
       "</style>\n",
       "<table border=\"1\" class=\"dataframe\">\n",
       "  <thead>\n",
       "    <tr style=\"text-align: right;\">\n",
       "      <th></th>\n",
       "      <th>Unnamed: 0</th>\n",
       "      <th>key</th>\n",
       "      <th>fare_amount</th>\n",
       "      <th>pickup_datetime</th>\n",
       "      <th>pickup_longitude</th>\n",
       "      <th>pickup_latitude</th>\n",
       "      <th>dropoff_longitude</th>\n",
       "      <th>dropoff_latitude</th>\n",
       "      <th>passenger_count</th>\n",
       "      <th>pickup_datetime_str</th>\n",
       "    </tr>\n",
       "  </thead>\n",
       "  <tbody>\n",
       "    <tr>\n",
       "      <th>0</th>\n",
       "      <td>24238194</td>\n",
       "      <td>2015-05-07 19:52:06.0000003</td>\n",
       "      <td>7.5</td>\n",
       "      <td>19:52:06</td>\n",
       "      <td>-73.999817</td>\n",
       "      <td>40.738354</td>\n",
       "      <td>-73.999512</td>\n",
       "      <td>40.723217</td>\n",
       "      <td>1</td>\n",
       "      <td>19:52:06</td>\n",
       "    </tr>\n",
       "    <tr>\n",
       "      <th>1</th>\n",
       "      <td>27835199</td>\n",
       "      <td>2009-07-17 20:04:56.0000002</td>\n",
       "      <td>7.7</td>\n",
       "      <td>20:04:56</td>\n",
       "      <td>-73.994355</td>\n",
       "      <td>40.728225</td>\n",
       "      <td>-73.994710</td>\n",
       "      <td>40.750325</td>\n",
       "      <td>1</td>\n",
       "      <td>20:04:56</td>\n",
       "    </tr>\n",
       "    <tr>\n",
       "      <th>2</th>\n",
       "      <td>44984355</td>\n",
       "      <td>2009-08-24 21:45:00.00000061</td>\n",
       "      <td>12.9</td>\n",
       "      <td>21:45:00</td>\n",
       "      <td>-74.005043</td>\n",
       "      <td>40.740770</td>\n",
       "      <td>-73.962565</td>\n",
       "      <td>40.772647</td>\n",
       "      <td>1</td>\n",
       "      <td>21:45:00</td>\n",
       "    </tr>\n",
       "    <tr>\n",
       "      <th>3</th>\n",
       "      <td>25894730</td>\n",
       "      <td>2009-06-26 08:22:21.0000001</td>\n",
       "      <td>5.3</td>\n",
       "      <td>08:22:21</td>\n",
       "      <td>-73.976124</td>\n",
       "      <td>40.790844</td>\n",
       "      <td>-73.965316</td>\n",
       "      <td>40.803349</td>\n",
       "      <td>3</td>\n",
       "      <td>08:22:21</td>\n",
       "    </tr>\n",
       "    <tr>\n",
       "      <th>4</th>\n",
       "      <td>17610152</td>\n",
       "      <td>2014-08-28 17:47:00.000000188</td>\n",
       "      <td>16.0</td>\n",
       "      <td>17:47:00</td>\n",
       "      <td>-73.925023</td>\n",
       "      <td>40.744085</td>\n",
       "      <td>-73.973082</td>\n",
       "      <td>40.761247</td>\n",
       "      <td>5</td>\n",
       "      <td>17:47:00</td>\n",
       "    </tr>\n",
       "  </tbody>\n",
       "</table>\n",
       "</div>"
      ],
      "text/plain": [
       "   Unnamed: 0                            key  fare_amount pickup_datetime  \\\n",
       "0    24238194    2015-05-07 19:52:06.0000003          7.5        19:52:06   \n",
       "1    27835199    2009-07-17 20:04:56.0000002          7.7        20:04:56   \n",
       "2    44984355   2009-08-24 21:45:00.00000061         12.9        21:45:00   \n",
       "3    25894730    2009-06-26 08:22:21.0000001          5.3        08:22:21   \n",
       "4    17610152  2014-08-28 17:47:00.000000188         16.0        17:47:00   \n",
       "\n",
       "   pickup_longitude  pickup_latitude  dropoff_longitude  dropoff_latitude  \\\n",
       "0        -73.999817        40.738354         -73.999512         40.723217   \n",
       "1        -73.994355        40.728225         -73.994710         40.750325   \n",
       "2        -74.005043        40.740770         -73.962565         40.772647   \n",
       "3        -73.976124        40.790844         -73.965316         40.803349   \n",
       "4        -73.925023        40.744085         -73.973082         40.761247   \n",
       "\n",
       "   passenger_count pickup_datetime_str  \n",
       "0                1            19:52:06  \n",
       "1                1            20:04:56  \n",
       "2                1            21:45:00  \n",
       "3                3            08:22:21  \n",
       "4                5            17:47:00  "
      ]
     },
     "execution_count": 20,
     "metadata": {},
     "output_type": "execute_result"
    }
   ],
   "source": [
    "# First 50k values\n",
    "df_50k = df.iloc[0:50000]\n",
    "df_50k.head()"
   ]
  },
  {
   "cell_type": "code",
   "execution_count": 21,
   "id": "3d8b445c",
   "metadata": {},
   "outputs": [],
   "source": [
    "# Placing mile and km outputs into seperate variables\n",
    "df_new_mi = list(ride_distance_mi)\n",
    "df_new_km = list(ride_distance_km)"
   ]
  },
  {
   "cell_type": "code",
   "execution_count": 22,
   "id": "1ca85507",
   "metadata": {},
   "outputs": [
    {
     "data": {
      "text/html": [
       "<div>\n",
       "<style scoped>\n",
       "    .dataframe tbody tr th:only-of-type {\n",
       "        vertical-align: middle;\n",
       "    }\n",
       "\n",
       "    .dataframe tbody tr th {\n",
       "        vertical-align: top;\n",
       "    }\n",
       "\n",
       "    .dataframe thead th {\n",
       "        text-align: right;\n",
       "    }\n",
       "</style>\n",
       "<table border=\"1\" class=\"dataframe\">\n",
       "  <thead>\n",
       "    <tr style=\"text-align: right;\">\n",
       "      <th></th>\n",
       "      <th>Calculated Miles</th>\n",
       "      <th>Calculated KM</th>\n",
       "    </tr>\n",
       "  </thead>\n",
       "  <tbody>\n",
       "    <tr>\n",
       "      <th>0</th>\n",
       "      <td>1.044594</td>\n",
       "      <td>1.681111</td>\n",
       "    </tr>\n",
       "    <tr>\n",
       "      <th>1</th>\n",
       "      <td>1.525071</td>\n",
       "      <td>2.454363</td>\n",
       "    </tr>\n",
       "    <tr>\n",
       "      <th>2</th>\n",
       "      <td>3.131464</td>\n",
       "      <td>5.039603</td>\n",
       "    </tr>\n",
       "    <tr>\n",
       "      <th>3</th>\n",
       "      <td>1.032372</td>\n",
       "      <td>1.661442</td>\n",
       "    </tr>\n",
       "    <tr>\n",
       "      <th>4</th>\n",
       "      <td>2.786061</td>\n",
       "      <td>4.483730</td>\n",
       "    </tr>\n",
       "  </tbody>\n",
       "</table>\n",
       "</div>"
      ],
      "text/plain": [
       "   Calculated Miles  Calculated KM\n",
       "0          1.044594       1.681111\n",
       "1          1.525071       2.454363\n",
       "2          3.131464       5.039603\n",
       "3          1.032372       1.661442\n",
       "4          2.786061       4.483730"
      ]
     },
     "execution_count": 22,
     "metadata": {},
     "output_type": "execute_result"
    }
   ],
   "source": [
    "# Creating a seperate df with the new calculated distances\n",
    "## Append the distances to a new data frame\n",
    "df_calc = pd.DataFrame(df_new_mi, columns=['Calculated Miles']) # Creating the new df\n",
    "df_calc['Calculated KM'] = ride_distance_km # adding km distance as a new column\n",
    "\n",
    "df_calc.head()"
   ]
  },
  {
   "cell_type": "code",
   "execution_count": 23,
   "id": "1cfd834d",
   "metadata": {},
   "outputs": [],
   "source": [
    "# Resetting indexes to concatenate the dfs\n",
    "df_50k.reset_index(drop=True, inplace=True)\n",
    "df_calc.reset_index(drop=True, inplace=True)"
   ]
  },
  {
   "cell_type": "code",
   "execution_count": 24,
   "id": "a783416c",
   "metadata": {},
   "outputs": [
    {
     "data": {
      "text/html": [
       "<div>\n",
       "<style scoped>\n",
       "    .dataframe tbody tr th:only-of-type {\n",
       "        vertical-align: middle;\n",
       "    }\n",
       "\n",
       "    .dataframe tbody tr th {\n",
       "        vertical-align: top;\n",
       "    }\n",
       "\n",
       "    .dataframe thead th {\n",
       "        text-align: right;\n",
       "    }\n",
       "</style>\n",
       "<table border=\"1\" class=\"dataframe\">\n",
       "  <thead>\n",
       "    <tr style=\"text-align: right;\">\n",
       "      <th></th>\n",
       "      <th>Unnamed: 0</th>\n",
       "      <th>key</th>\n",
       "      <th>fare_amount</th>\n",
       "      <th>pickup_datetime</th>\n",
       "      <th>pickup_longitude</th>\n",
       "      <th>pickup_latitude</th>\n",
       "      <th>dropoff_longitude</th>\n",
       "      <th>dropoff_latitude</th>\n",
       "      <th>passenger_count</th>\n",
       "      <th>pickup_datetime_str</th>\n",
       "      <th>Calculated Miles</th>\n",
       "      <th>Calculated KM</th>\n",
       "    </tr>\n",
       "  </thead>\n",
       "  <tbody>\n",
       "    <tr>\n",
       "      <th>0</th>\n",
       "      <td>24238194</td>\n",
       "      <td>2015-05-07 19:52:06.0000003</td>\n",
       "      <td>7.5</td>\n",
       "      <td>19:52:06</td>\n",
       "      <td>-73.999817</td>\n",
       "      <td>40.738354</td>\n",
       "      <td>-73.999512</td>\n",
       "      <td>40.723217</td>\n",
       "      <td>1</td>\n",
       "      <td>19:52:06</td>\n",
       "      <td>1.044594</td>\n",
       "      <td>1.681111</td>\n",
       "    </tr>\n",
       "    <tr>\n",
       "      <th>1</th>\n",
       "      <td>27835199</td>\n",
       "      <td>2009-07-17 20:04:56.0000002</td>\n",
       "      <td>7.7</td>\n",
       "      <td>20:04:56</td>\n",
       "      <td>-73.994355</td>\n",
       "      <td>40.728225</td>\n",
       "      <td>-73.994710</td>\n",
       "      <td>40.750325</td>\n",
       "      <td>1</td>\n",
       "      <td>20:04:56</td>\n",
       "      <td>1.525071</td>\n",
       "      <td>2.454363</td>\n",
       "    </tr>\n",
       "    <tr>\n",
       "      <th>2</th>\n",
       "      <td>44984355</td>\n",
       "      <td>2009-08-24 21:45:00.00000061</td>\n",
       "      <td>12.9</td>\n",
       "      <td>21:45:00</td>\n",
       "      <td>-74.005043</td>\n",
       "      <td>40.740770</td>\n",
       "      <td>-73.962565</td>\n",
       "      <td>40.772647</td>\n",
       "      <td>1</td>\n",
       "      <td>21:45:00</td>\n",
       "      <td>3.131464</td>\n",
       "      <td>5.039603</td>\n",
       "    </tr>\n",
       "    <tr>\n",
       "      <th>3</th>\n",
       "      <td>25894730</td>\n",
       "      <td>2009-06-26 08:22:21.0000001</td>\n",
       "      <td>5.3</td>\n",
       "      <td>08:22:21</td>\n",
       "      <td>-73.976124</td>\n",
       "      <td>40.790844</td>\n",
       "      <td>-73.965316</td>\n",
       "      <td>40.803349</td>\n",
       "      <td>3</td>\n",
       "      <td>08:22:21</td>\n",
       "      <td>1.032372</td>\n",
       "      <td>1.661442</td>\n",
       "    </tr>\n",
       "    <tr>\n",
       "      <th>4</th>\n",
       "      <td>17610152</td>\n",
       "      <td>2014-08-28 17:47:00.000000188</td>\n",
       "      <td>16.0</td>\n",
       "      <td>17:47:00</td>\n",
       "      <td>-73.925023</td>\n",
       "      <td>40.744085</td>\n",
       "      <td>-73.973082</td>\n",
       "      <td>40.761247</td>\n",
       "      <td>5</td>\n",
       "      <td>17:47:00</td>\n",
       "      <td>2.786061</td>\n",
       "      <td>4.483730</td>\n",
       "    </tr>\n",
       "  </tbody>\n",
       "</table>\n",
       "</div>"
      ],
      "text/plain": [
       "   Unnamed: 0                            key  fare_amount pickup_datetime  \\\n",
       "0    24238194    2015-05-07 19:52:06.0000003          7.5        19:52:06   \n",
       "1    27835199    2009-07-17 20:04:56.0000002          7.7        20:04:56   \n",
       "2    44984355   2009-08-24 21:45:00.00000061         12.9        21:45:00   \n",
       "3    25894730    2009-06-26 08:22:21.0000001          5.3        08:22:21   \n",
       "4    17610152  2014-08-28 17:47:00.000000188         16.0        17:47:00   \n",
       "\n",
       "   pickup_longitude  pickup_latitude  dropoff_longitude  dropoff_latitude  \\\n",
       "0        -73.999817        40.738354         -73.999512         40.723217   \n",
       "1        -73.994355        40.728225         -73.994710         40.750325   \n",
       "2        -74.005043        40.740770         -73.962565         40.772647   \n",
       "3        -73.976124        40.790844         -73.965316         40.803349   \n",
       "4        -73.925023        40.744085         -73.973082         40.761247   \n",
       "\n",
       "   passenger_count pickup_datetime_str  Calculated Miles  Calculated KM  \n",
       "0                1            19:52:06          1.044594       1.681111  \n",
       "1                1            20:04:56          1.525071       2.454363  \n",
       "2                1            21:45:00          3.131464       5.039603  \n",
       "3                3            08:22:21          1.032372       1.661442  \n",
       "4                5            17:47:00          2.786061       4.483730  "
      ]
     },
     "execution_count": 24,
     "metadata": {},
     "output_type": "execute_result"
    }
   ],
   "source": [
    "# Concatenating the two dfs:\n",
    "    # 50k samples\n",
    "    # Pickup/Dropoff distances\n",
    "df_50k_calc = pd.concat([df_50k, df_calc], axis=1)\n",
    "df_50k_calc.head()"
   ]
  },
  {
   "cell_type": "markdown",
   "id": "038fa618",
   "metadata": {},
   "source": [
    "As we've found the distance between the pickup and dropoff points, we can discard the following columns:\n",
    "- Unnamed: 0\n",
    "- Key\n",
    "- pickup_longitude\t\n",
    "- pickup_latitude\t\n",
    "- dropoff_longitude\t\n",
    "- dropoff_latitude"
   ]
  },
  {
   "cell_type": "code",
   "execution_count": 25,
   "id": "d6c741ae",
   "metadata": {
    "scrolled": true
   },
   "outputs": [],
   "source": [
    "# Dropping unnecessary columns\n",
    "cols_to_drop_final = ['Unnamed: 0', 'key', 'pickup_longitude', 'pickup_latitude', 'dropoff_longitude', 'dropoff_latitude']\n",
    "df_50k_calc.drop(cols_to_drop_final, axis = 1, inplace=True)"
   ]
  },
  {
   "cell_type": "code",
   "execution_count": 26,
   "id": "f4a67854",
   "metadata": {},
   "outputs": [
    {
     "data": {
      "text/html": [
       "<div>\n",
       "<style scoped>\n",
       "    .dataframe tbody tr th:only-of-type {\n",
       "        vertical-align: middle;\n",
       "    }\n",
       "\n",
       "    .dataframe tbody tr th {\n",
       "        vertical-align: top;\n",
       "    }\n",
       "\n",
       "    .dataframe thead th {\n",
       "        text-align: right;\n",
       "    }\n",
       "</style>\n",
       "<table border=\"1\" class=\"dataframe\">\n",
       "  <thead>\n",
       "    <tr style=\"text-align: right;\">\n",
       "      <th></th>\n",
       "      <th>fare_amount</th>\n",
       "      <th>pickup_datetime</th>\n",
       "      <th>passenger_count</th>\n",
       "      <th>pickup_datetime_str</th>\n",
       "      <th>Calculated Miles</th>\n",
       "      <th>Calculated KM</th>\n",
       "    </tr>\n",
       "  </thead>\n",
       "  <tbody>\n",
       "    <tr>\n",
       "      <th>0</th>\n",
       "      <td>7.5</td>\n",
       "      <td>19:52:06</td>\n",
       "      <td>1</td>\n",
       "      <td>19:52:06</td>\n",
       "      <td>1.044594</td>\n",
       "      <td>1.681111</td>\n",
       "    </tr>\n",
       "    <tr>\n",
       "      <th>1</th>\n",
       "      <td>7.7</td>\n",
       "      <td>20:04:56</td>\n",
       "      <td>1</td>\n",
       "      <td>20:04:56</td>\n",
       "      <td>1.525071</td>\n",
       "      <td>2.454363</td>\n",
       "    </tr>\n",
       "    <tr>\n",
       "      <th>2</th>\n",
       "      <td>12.9</td>\n",
       "      <td>21:45:00</td>\n",
       "      <td>1</td>\n",
       "      <td>21:45:00</td>\n",
       "      <td>3.131464</td>\n",
       "      <td>5.039603</td>\n",
       "    </tr>\n",
       "    <tr>\n",
       "      <th>3</th>\n",
       "      <td>5.3</td>\n",
       "      <td>08:22:21</td>\n",
       "      <td>3</td>\n",
       "      <td>08:22:21</td>\n",
       "      <td>1.032372</td>\n",
       "      <td>1.661442</td>\n",
       "    </tr>\n",
       "    <tr>\n",
       "      <th>4</th>\n",
       "      <td>16.0</td>\n",
       "      <td>17:47:00</td>\n",
       "      <td>5</td>\n",
       "      <td>17:47:00</td>\n",
       "      <td>2.786061</td>\n",
       "      <td>4.483730</td>\n",
       "    </tr>\n",
       "  </tbody>\n",
       "</table>\n",
       "</div>"
      ],
      "text/plain": [
       "   fare_amount pickup_datetime  passenger_count pickup_datetime_str  \\\n",
       "0          7.5        19:52:06                1            19:52:06   \n",
       "1          7.7        20:04:56                1            20:04:56   \n",
       "2         12.9        21:45:00                1            21:45:00   \n",
       "3          5.3        08:22:21                3            08:22:21   \n",
       "4         16.0        17:47:00                5            17:47:00   \n",
       "\n",
       "   Calculated Miles  Calculated KM  \n",
       "0          1.044594       1.681111  \n",
       "1          1.525071       2.454363  \n",
       "2          3.131464       5.039603  \n",
       "3          1.032372       1.661442  \n",
       "4          2.786061       4.483730  "
      ]
     },
     "execution_count": 26,
     "metadata": {},
     "output_type": "execute_result"
    }
   ],
   "source": [
    "df_50k_calc.head()"
   ]
  },
  {
   "cell_type": "markdown",
   "id": "451e998a",
   "metadata": {},
   "source": [
    "__We now have a new dataframe; 50,000 samples conataining:__\n",
    "- Ride distance\n",
    "- Ride time\n",
    "- Ride passangers\n",
    "- Fare amount\n",
    "\n",
    "Let's visualise with the new df that we've created."
   ]
  },
  {
   "cell_type": "markdown",
   "id": "a43bfc1d",
   "metadata": {},
   "source": [
    "## Data Visualisation (Further Processing)\n",
    "\n",
    "Though we've processed the data, removing obvious anomalies or null data.\n",
    "\n",
    "We should visualise our features and see if there are hidden anomalies."
   ]
  },
  {
   "cell_type": "markdown",
   "id": "80d9a05e",
   "metadata": {},
   "source": [
    "### Passanger count"
   ]
  },
  {
   "cell_type": "code",
   "execution_count": 27,
   "id": "71f339f2",
   "metadata": {},
   "outputs": [
    {
     "data": {
      "text/plain": [
       "Text(0, 0.5, 'Fare Amount')"
      ]
     },
     "execution_count": 27,
     "metadata": {},
     "output_type": "execute_result"
    },
    {
     "data": {
      "image/png": "[encoded data removed]",
      "text/plain": [
       "<Figure size 432x288 with 1 Axes>"
      ]
     },
     "metadata": {
      "needs_background": "light"
     },
     "output_type": "display_data"
    }
   ],
   "source": [
    "# Plotting passenger count agans fare amount\n",
    "plt.scatter(df_50k_calc.passenger_count, df_50k_calc.fare_amount)\n",
    "\n",
    "plt.xlabel('Passenger Count')\n",
    "plt.ylabel('Fare Amount')"
   ]
  },
  {
   "cell_type": "markdown",
   "id": "d717bc9a",
   "metadata": {},
   "source": [
    "After plotting the passenger count against the fare amount, we can see a very obvious anomaly.\n",
    "- There are one or more data points with a passanger count of 200+ - this should be impossible, unless Uber offer an airplane option\n",
    "    - Let's drop however many rows fit this criteria\n",
    "    \n",
    "__*Issue isn't appearing now, but I'll keep these 2-3 cells just in case*__"
   ]
  },
  {
   "cell_type": "code",
   "execution_count": 28,
   "id": "732eff6d",
   "metadata": {},
   "outputs": [],
   "source": [
    "# Dropping the anomalous \n",
    "anomaly_pass_count = df.loc[df['passenger_count'] >= 200].index\n",
    "df = df.drop(anomaly_pass_count)\n",
    "\n",
    "# Re run the passenger count/fare amount plot"
   ]
  },
  {
   "cell_type": "code",
   "execution_count": 29,
   "id": "4e4851be",
   "metadata": {},
   "outputs": [
    {
     "data": {
      "text/plain": [
       "Text(0, 0.5, 'Fare Amount')"
      ]
     },
     "execution_count": 29,
     "metadata": {},
     "output_type": "execute_result"
    },
    {
     "data": {
      "image/png": "[encoded data removed]",
      "text/plain": [
       "<Figure size 720x360 with 1 Axes>"
      ]
     },
     "metadata": {
      "needs_background": "light"
     },
     "output_type": "display_data"
    }
   ],
   "source": [
    "# Plotting passenger count agans fare amount\n",
    "plt.figure(figsize=(10,5))\n",
    "\n",
    "# Plot data\n",
    "plt.scatter(df.passenger_count, df.fare_amount)\n",
    "\n",
    "plt.xlabel('Passenger Count')\n",
    "plt.ylabel('Fare Amount')"
   ]
  },
  {
   "cell_type": "markdown",
   "id": "a37b0f24",
   "metadata": {},
   "source": [
    "There isn't a clear trend between a higher passenger count = higher fare.\n",
    "- This is kinda obvious the passenger count doesn't really effect the car's ability to move\n",
    "    - There may've been a trend here if the primary transport was a bike/rickshaw/moped etc.\n"
   ]
  },
  {
   "cell_type": "markdown",
   "id": "bb0572c9",
   "metadata": {},
   "source": [
    "### Time of ride"
   ]
  },
  {
   "cell_type": "code",
   "execution_count": 30,
   "id": "a6e9912d",
   "metadata": {},
   "outputs": [
    {
     "data": {
      "text/html": [
       "<div>\n",
       "<style scoped>\n",
       "    .dataframe tbody tr th:only-of-type {\n",
       "        vertical-align: middle;\n",
       "    }\n",
       "\n",
       "    .dataframe tbody tr th {\n",
       "        vertical-align: top;\n",
       "    }\n",
       "\n",
       "    .dataframe thead th {\n",
       "        text-align: right;\n",
       "    }\n",
       "</style>\n",
       "<table border=\"1\" class=\"dataframe\">\n",
       "  <thead>\n",
       "    <tr style=\"text-align: right;\">\n",
       "      <th></th>\n",
       "      <th>fare_amount</th>\n",
       "      <th>pickup_datetime</th>\n",
       "      <th>passenger_count</th>\n",
       "      <th>pickup_datetime_str</th>\n",
       "      <th>Calculated Miles</th>\n",
       "      <th>Calculated KM</th>\n",
       "    </tr>\n",
       "  </thead>\n",
       "  <tbody>\n",
       "    <tr>\n",
       "      <th>18229</th>\n",
       "      <td>5.7</td>\n",
       "      <td>00:00:00</td>\n",
       "      <td>5</td>\n",
       "      <td>00:00:00</td>\n",
       "      <td>1.081746</td>\n",
       "      <td>1.740902</td>\n",
       "    </tr>\n",
       "    <tr>\n",
       "      <th>22331</th>\n",
       "      <td>14.5</td>\n",
       "      <td>00:00:00</td>\n",
       "      <td>1</td>\n",
       "      <td>00:00:00</td>\n",
       "      <td>4.774828</td>\n",
       "      <td>7.684340</td>\n",
       "    </tr>\n",
       "    <tr>\n",
       "      <th>31736</th>\n",
       "      <td>3.7</td>\n",
       "      <td>00:00:00</td>\n",
       "      <td>1</td>\n",
       "      <td>00:00:00</td>\n",
       "      <td>0.499700</td>\n",
       "      <td>0.804189</td>\n",
       "    </tr>\n",
       "    <tr>\n",
       "      <th>37915</th>\n",
       "      <td>6.2</td>\n",
       "      <td>00:00:00</td>\n",
       "      <td>1</td>\n",
       "      <td>00:00:00</td>\n",
       "      <td>0.973172</td>\n",
       "      <td>1.566168</td>\n",
       "    </tr>\n",
       "    <tr>\n",
       "      <th>10598</th>\n",
       "      <td>6.5</td>\n",
       "      <td>00:00:00</td>\n",
       "      <td>1</td>\n",
       "      <td>00:00:00</td>\n",
       "      <td>1.034294</td>\n",
       "      <td>1.664535</td>\n",
       "    </tr>\n",
       "  </tbody>\n",
       "</table>\n",
       "</div>"
      ],
      "text/plain": [
       "       fare_amount pickup_datetime  passenger_count pickup_datetime_str  \\\n",
       "18229          5.7        00:00:00                5            00:00:00   \n",
       "22331         14.5        00:00:00                1            00:00:00   \n",
       "31736          3.7        00:00:00                1            00:00:00   \n",
       "37915          6.2        00:00:00                1            00:00:00   \n",
       "10598          6.5        00:00:00                1            00:00:00   \n",
       "\n",
       "       Calculated Miles  Calculated KM  \n",
       "18229          1.081746       1.740902  \n",
       "22331          4.774828       7.684340  \n",
       "31736          0.499700       0.804189  \n",
       "37915          0.973172       1.566168  \n",
       "10598          1.034294       1.664535  "
      ]
     },
     "execution_count": 30,
     "metadata": {},
     "output_type": "execute_result"
    }
   ],
   "source": [
    "# new df to have sorted time data\n",
    "sorted_time_df = df_50k_calc.sort_values(by='pickup_datetime')\n",
    "sorted_time_df.head()"
   ]
  },
  {
   "cell_type": "code",
   "execution_count": 31,
   "id": "de51333b",
   "metadata": {},
   "outputs": [],
   "source": [
    "# The graph with the full 190k+ values takes too long to print, let's shorten it to the first 1000\n",
    "sorted_time_df_1000 = sorted_time_df[0:1000]"
   ]
  },
  {
   "cell_type": "code",
   "execution_count": 32,
   "id": "64df44ce",
   "metadata": {},
   "outputs": [
    {
     "data": {
      "text/plain": [
       "Text(0, 0.5, 'Fare Amount')"
      ]
     },
     "execution_count": 32,
     "metadata": {},
     "output_type": "execute_result"
    },
    {
     "data": {
      "image/png": "[encoded data removed]",
      "text/plain": [
       "<Figure size 720x360 with 1 Axes>"
      ]
     },
     "metadata": {
      "needs_background": "light"
     },
     "output_type": "display_data"
    }
   ],
   "source": [
    "# Plotting passenger count agans fare amount \n",
    "plt.figure(figsize=(10,5))\n",
    "\n",
    "# Plotting data\n",
    "plt.plot(sorted_time_df_1000.pickup_datetime_str, sorted_time_df_1000.fare_amount)\n",
    "\n",
    "# Graph labels\n",
    "plt.xlabel('Time')\n",
    "plt.ylabel('Fare Amount')"
   ]
  },
  {
   "cell_type": "markdown",
   "id": "24165693",
   "metadata": {},
   "source": [
    "From the graph above, we can see that:\n",
    "- The bottom line appears to be the same\n",
    "- There are spikes of fare prices throughout the day, but nearing the end is where we see the large spikes\n",
    "- There isn't a *clear* trend of different time = higher/less fare amount"
   ]
  },
  {
   "cell_type": "markdown",
   "id": "6279fbca",
   "metadata": {},
   "source": [
    "### Miles"
   ]
  },
  {
   "cell_type": "code",
   "execution_count": 33,
   "id": "b3ff6499",
   "metadata": {},
   "outputs": [],
   "source": [
    "# Sorting and storing relevant data\n",
    "sorted_distance_mi = df_50k_calc.sort_values(by='Calculated Miles')"
   ]
  },
  {
   "cell_type": "code",
   "execution_count": 34,
   "id": "42a24b9a",
   "metadata": {},
   "outputs": [
    {
     "data": {
      "text/html": [
       "<div>\n",
       "<style scoped>\n",
       "    .dataframe tbody tr th:only-of-type {\n",
       "        vertical-align: middle;\n",
       "    }\n",
       "\n",
       "    .dataframe tbody tr th {\n",
       "        vertical-align: top;\n",
       "    }\n",
       "\n",
       "    .dataframe thead th {\n",
       "        text-align: right;\n",
       "    }\n",
       "</style>\n",
       "<table border=\"1\" class=\"dataframe\">\n",
       "  <thead>\n",
       "    <tr style=\"text-align: right;\">\n",
       "      <th></th>\n",
       "      <th>fare_amount</th>\n",
       "      <th>pickup_datetime</th>\n",
       "      <th>passenger_count</th>\n",
       "      <th>pickup_datetime_str</th>\n",
       "      <th>Calculated Miles</th>\n",
       "      <th>Calculated KM</th>\n",
       "    </tr>\n",
       "  </thead>\n",
       "  <tbody>\n",
       "    <tr>\n",
       "      <th>30509</th>\n",
       "      <td>9.5</td>\n",
       "      <td>04:03:00</td>\n",
       "      <td>1</td>\n",
       "      <td>04:03:00</td>\n",
       "      <td>5387.571255</td>\n",
       "      <td>8670.455473</td>\n",
       "    </tr>\n",
       "    <tr>\n",
       "      <th>18887</th>\n",
       "      <td>58.0</td>\n",
       "      <td>01:48:45</td>\n",
       "      <td>1</td>\n",
       "      <td>01:48:45</td>\n",
       "      <td>5388.120425</td>\n",
       "      <td>8671.339277</td>\n",
       "    </tr>\n",
       "    <tr>\n",
       "      <th>40290</th>\n",
       "      <td>2.5</td>\n",
       "      <td>18:14:00</td>\n",
       "      <td>6</td>\n",
       "      <td>18:14:00</td>\n",
       "      <td>5388.559763</td>\n",
       "      <td>8672.046324</td>\n",
       "    </tr>\n",
       "    <tr>\n",
       "      <th>11530</th>\n",
       "      <td>2.5</td>\n",
       "      <td>08:10:00</td>\n",
       "      <td>1</td>\n",
       "      <td>08:10:00</td>\n",
       "      <td>5390.475125</td>\n",
       "      <td>8675.128799</td>\n",
       "    </tr>\n",
       "    <tr>\n",
       "      <th>34594</th>\n",
       "      <td>49.8</td>\n",
       "      <td>05:43:16</td>\n",
       "      <td>1</td>\n",
       "      <td>05:43:16</td>\n",
       "      <td>5453.660174</td>\n",
       "      <td>8776.815279</td>\n",
       "    </tr>\n",
       "  </tbody>\n",
       "</table>\n",
       "</div>"
      ],
      "text/plain": [
       "       fare_amount pickup_datetime  passenger_count pickup_datetime_str  \\\n",
       "30509          9.5        04:03:00                1            04:03:00   \n",
       "18887         58.0        01:48:45                1            01:48:45   \n",
       "40290          2.5        18:14:00                6            18:14:00   \n",
       "11530          2.5        08:10:00                1            08:10:00   \n",
       "34594         49.8        05:43:16                1            05:43:16   \n",
       "\n",
       "       Calculated Miles  Calculated KM  \n",
       "30509       5387.571255    8670.455473  \n",
       "18887       5388.120425    8671.339277  \n",
       "40290       5388.559763    8672.046324  \n",
       "11530       5390.475125    8675.128799  \n",
       "34594       5453.660174    8776.815279  "
      ]
     },
     "execution_count": 34,
     "metadata": {},
     "output_type": "execute_result"
    }
   ],
   "source": [
    "sorted_distance_mi.tail()"
   ]
  },
  {
   "cell_type": "code",
   "execution_count": 35,
   "id": "ebc13905",
   "metadata": {},
   "outputs": [
    {
     "data": {
      "text/plain": [
       "Text(0, 0.5, 'Fare Amount')"
      ]
     },
     "execution_count": 35,
     "metadata": {},
     "output_type": "execute_result"
    },
    {
     "data": {
      "image/png": "[encoded data removed]",
      "text/plain": [
       "<Figure size 720x360 with 1 Axes>"
      ]
     },
     "metadata": {
      "needs_background": "light"
     },
     "output_type": "display_data"
    }
   ],
   "source": [
    "# Plotting ride distance and the fare amount\n",
    "plt.figure(figsize=(10,5))\n",
    "\n",
    "# Plot data\n",
    "plt.plot(sorted_distance_mi['Calculated Miles'], sorted_distance_mi.fare_amount)\n",
    "\n",
    "# Graph labels\n",
    "plt.xlabel('Distance (mi)')\n",
    "plt.ylabel('Fare Amount')"
   ]
  },
  {
   "cell_type": "markdown",
   "id": "ccd31f23",
   "metadata": {},
   "source": [
    "We can see that, after ~50/25mi the quality of the graph degrades, and I can't imagine there being many 100+ mile long journeys.\n",
    "\n",
    "Let's drop any ride which has a ride distance > 100 - to see if there's a difference."
   ]
  },
  {
   "cell_type": "code",
   "execution_count": 36,
   "id": "05b8e303",
   "metadata": {},
   "outputs": [],
   "source": [
    "drop_extra_mi = sorted_distance_mi.loc[sorted_distance_mi['Calculated Miles'] > 17].index"
   ]
  },
  {
   "cell_type": "code",
   "execution_count": 37,
   "id": "30f4165f",
   "metadata": {},
   "outputs": [],
   "source": [
    "# Dropping those rows\n",
    "sorted_distance_mi.drop(drop_extra_mi, inplace=True)\n",
    "\n",
    "# Reset index\n",
    "sorted_distance_mi.reset_index(drop=True, inplace=True)"
   ]
  },
  {
   "cell_type": "code",
   "execution_count": 38,
   "id": "71503682",
   "metadata": {
    "scrolled": false
   },
   "outputs": [
    {
     "data": {
      "text/html": [
       "<div>\n",
       "<style scoped>\n",
       "    .dataframe tbody tr th:only-of-type {\n",
       "        vertical-align: middle;\n",
       "    }\n",
       "\n",
       "    .dataframe tbody tr th {\n",
       "        vertical-align: top;\n",
       "    }\n",
       "\n",
       "    .dataframe thead th {\n",
       "        text-align: right;\n",
       "    }\n",
       "</style>\n",
       "<table border=\"1\" class=\"dataframe\">\n",
       "  <thead>\n",
       "    <tr style=\"text-align: right;\">\n",
       "      <th></th>\n",
       "      <th>fare_amount</th>\n",
       "      <th>pickup_datetime</th>\n",
       "      <th>passenger_count</th>\n",
       "      <th>pickup_datetime_str</th>\n",
       "      <th>Calculated Miles</th>\n",
       "      <th>Calculated KM</th>\n",
       "    </tr>\n",
       "  </thead>\n",
       "  <tbody>\n",
       "    <tr>\n",
       "      <th>0</th>\n",
       "      <td>5.70</td>\n",
       "      <td>22:07:00</td>\n",
       "      <td>1</td>\n",
       "      <td>22:07:00</td>\n",
       "      <td>0.000000</td>\n",
       "      <td>0.000000</td>\n",
       "    </tr>\n",
       "    <tr>\n",
       "      <th>1</th>\n",
       "      <td>11.00</td>\n",
       "      <td>23:14:00</td>\n",
       "      <td>2</td>\n",
       "      <td>23:14:00</td>\n",
       "      <td>0.000000</td>\n",
       "      <td>0.000000</td>\n",
       "    </tr>\n",
       "    <tr>\n",
       "      <th>2</th>\n",
       "      <td>8.10</td>\n",
       "      <td>19:28:00</td>\n",
       "      <td>5</td>\n",
       "      <td>19:28:00</td>\n",
       "      <td>0.000000</td>\n",
       "      <td>0.000000</td>\n",
       "    </tr>\n",
       "    <tr>\n",
       "      <th>3</th>\n",
       "      <td>10.90</td>\n",
       "      <td>18:01:00</td>\n",
       "      <td>2</td>\n",
       "      <td>18:01:00</td>\n",
       "      <td>0.000000</td>\n",
       "      <td>0.000000</td>\n",
       "    </tr>\n",
       "    <tr>\n",
       "      <th>4</th>\n",
       "      <td>6.50</td>\n",
       "      <td>16:41:00</td>\n",
       "      <td>1</td>\n",
       "      <td>16:41:00</td>\n",
       "      <td>0.000000</td>\n",
       "      <td>0.000000</td>\n",
       "    </tr>\n",
       "    <tr>\n",
       "      <th>...</th>\n",
       "      <td>...</td>\n",
       "      <td>...</td>\n",
       "      <td>...</td>\n",
       "      <td>...</td>\n",
       "      <td>...</td>\n",
       "      <td>...</td>\n",
       "    </tr>\n",
       "    <tr>\n",
       "      <th>49846</th>\n",
       "      <td>49.15</td>\n",
       "      <td>15:52:11</td>\n",
       "      <td>1</td>\n",
       "      <td>15:52:11</td>\n",
       "      <td>16.210062</td>\n",
       "      <td>26.087566</td>\n",
       "    </tr>\n",
       "    <tr>\n",
       "      <th>49847</th>\n",
       "      <td>57.33</td>\n",
       "      <td>17:08:27</td>\n",
       "      <td>1</td>\n",
       "      <td>17:08:27</td>\n",
       "      <td>16.263947</td>\n",
       "      <td>26.174285</td>\n",
       "    </tr>\n",
       "    <tr>\n",
       "      <th>49848</th>\n",
       "      <td>43.70</td>\n",
       "      <td>12:42:30</td>\n",
       "      <td>1</td>\n",
       "      <td>12:42:30</td>\n",
       "      <td>16.322379</td>\n",
       "      <td>26.268323</td>\n",
       "    </tr>\n",
       "    <tr>\n",
       "      <th>49849</th>\n",
       "      <td>100.58</td>\n",
       "      <td>22:20:00</td>\n",
       "      <td>2</td>\n",
       "      <td>22:20:00</td>\n",
       "      <td>16.586442</td>\n",
       "      <td>26.693290</td>\n",
       "    </tr>\n",
       "    <tr>\n",
       "      <th>49850</th>\n",
       "      <td>52.10</td>\n",
       "      <td>10:12:00</td>\n",
       "      <td>2</td>\n",
       "      <td>10:12:00</td>\n",
       "      <td>16.590789</td>\n",
       "      <td>26.700287</td>\n",
       "    </tr>\n",
       "  </tbody>\n",
       "</table>\n",
       "<p>49851 rows × 6 columns</p>\n",
       "</div>"
      ],
      "text/plain": [
       "       fare_amount pickup_datetime  passenger_count pickup_datetime_str  \\\n",
       "0             5.70        22:07:00                1            22:07:00   \n",
       "1            11.00        23:14:00                2            23:14:00   \n",
       "2             8.10        19:28:00                5            19:28:00   \n",
       "3            10.90        18:01:00                2            18:01:00   \n",
       "4             6.50        16:41:00                1            16:41:00   \n",
       "...            ...             ...              ...                 ...   \n",
       "49846        49.15        15:52:11                1            15:52:11   \n",
       "49847        57.33        17:08:27                1            17:08:27   \n",
       "49848        43.70        12:42:30                1            12:42:30   \n",
       "49849       100.58        22:20:00                2            22:20:00   \n",
       "49850        52.10        10:12:00                2            10:12:00   \n",
       "\n",
       "       Calculated Miles  Calculated KM  \n",
       "0              0.000000       0.000000  \n",
       "1              0.000000       0.000000  \n",
       "2              0.000000       0.000000  \n",
       "3              0.000000       0.000000  \n",
       "4              0.000000       0.000000  \n",
       "...                 ...            ...  \n",
       "49846         16.210062      26.087566  \n",
       "49847         16.263947      26.174285  \n",
       "49848         16.322379      26.268323  \n",
       "49849         16.586442      26.693290  \n",
       "49850         16.590789      26.700287  \n",
       "\n",
       "[49851 rows x 6 columns]"
      ]
     },
     "execution_count": 38,
     "metadata": {},
     "output_type": "execute_result"
    }
   ],
   "source": [
    "sorted_distance_mi"
   ]
  },
  {
   "cell_type": "code",
   "execution_count": 39,
   "id": "41ba08f5",
   "metadata": {},
   "outputs": [
    {
     "data": {
      "text/plain": [
       "Text(0, 0.5, 'Fare Amount')"
      ]
     },
     "execution_count": 39,
     "metadata": {},
     "output_type": "execute_result"
    },
    {
     "data": {
      "image/png": "[encoded data removed]",
      "text/plain": [
       "<Figure size 720x360 with 1 Axes>"
      ]
     },
     "metadata": {
      "needs_background": "light"
     },
     "output_type": "display_data"
    }
   ],
   "source": [
    "# Plotting ride distance and the fare amount\n",
    "plt.figure(figsize=(10,5))\n",
    "\n",
    "# Plot data\n",
    "plt.plot(sorted_distance_mi['Calculated Miles'], sorted_distance_mi.fare_amount)\n",
    "\n",
    "# Graph labels\n",
    "plt.xlabel('Distance (mi)')\n",
    "plt.ylabel('Fare Amount')"
   ]
  },
  {
   "cell_type": "markdown",
   "id": "fabad9eb",
   "metadata": {},
   "source": [
    "There's a semi-consistent linear relation between the distance (mi) and fare amount, up until ~15 miles (*I ammended the max distance in the cell above*)\n",
    "\n",
    "Afer that, the quality of the plot drops"
   ]
  },
  {
   "cell_type": "markdown",
   "id": "4096e7de",
   "metadata": {},
   "source": [
    "### Kilometers"
   ]
  },
  {
   "cell_type": "code",
   "execution_count": 40,
   "id": "5e00ecb9",
   "metadata": {},
   "outputs": [],
   "source": [
    "# Sorting and storing relevant data\n",
    "sorted_distance_km = df_50k_calc.sort_values(by='Calculated KM')"
   ]
  },
  {
   "cell_type": "code",
   "execution_count": 41,
   "id": "36890858",
   "metadata": {},
   "outputs": [
    {
     "data": {
      "text/html": [
       "<div>\n",
       "<style scoped>\n",
       "    .dataframe tbody tr th:only-of-type {\n",
       "        vertical-align: middle;\n",
       "    }\n",
       "\n",
       "    .dataframe tbody tr th {\n",
       "        vertical-align: top;\n",
       "    }\n",
       "\n",
       "    .dataframe thead th {\n",
       "        text-align: right;\n",
       "    }\n",
       "</style>\n",
       "<table border=\"1\" class=\"dataframe\">\n",
       "  <thead>\n",
       "    <tr style=\"text-align: right;\">\n",
       "      <th></th>\n",
       "      <th>fare_amount</th>\n",
       "      <th>pickup_datetime</th>\n",
       "      <th>passenger_count</th>\n",
       "      <th>pickup_datetime_str</th>\n",
       "      <th>Calculated Miles</th>\n",
       "      <th>Calculated KM</th>\n",
       "    </tr>\n",
       "  </thead>\n",
       "  <tbody>\n",
       "    <tr>\n",
       "      <th>41186</th>\n",
       "      <td>5.7</td>\n",
       "      <td>22:07:00</td>\n",
       "      <td>1</td>\n",
       "      <td>22:07:00</td>\n",
       "      <td>0.0</td>\n",
       "      <td>0.0</td>\n",
       "    </tr>\n",
       "    <tr>\n",
       "      <th>45319</th>\n",
       "      <td>11.0</td>\n",
       "      <td>23:14:00</td>\n",
       "      <td>2</td>\n",
       "      <td>23:14:00</td>\n",
       "      <td>0.0</td>\n",
       "      <td>0.0</td>\n",
       "    </tr>\n",
       "    <tr>\n",
       "      <th>45318</th>\n",
       "      <td>8.1</td>\n",
       "      <td>19:28:00</td>\n",
       "      <td>5</td>\n",
       "      <td>19:28:00</td>\n",
       "      <td>0.0</td>\n",
       "      <td>0.0</td>\n",
       "    </tr>\n",
       "    <tr>\n",
       "      <th>32502</th>\n",
       "      <td>10.9</td>\n",
       "      <td>18:01:00</td>\n",
       "      <td>2</td>\n",
       "      <td>18:01:00</td>\n",
       "      <td>0.0</td>\n",
       "      <td>0.0</td>\n",
       "    </tr>\n",
       "    <tr>\n",
       "      <th>40602</th>\n",
       "      <td>6.5</td>\n",
       "      <td>16:41:00</td>\n",
       "      <td>1</td>\n",
       "      <td>16:41:00</td>\n",
       "      <td>0.0</td>\n",
       "      <td>0.0</td>\n",
       "    </tr>\n",
       "  </tbody>\n",
       "</table>\n",
       "</div>"
      ],
      "text/plain": [
       "       fare_amount pickup_datetime  passenger_count pickup_datetime_str  \\\n",
       "41186          5.7        22:07:00                1            22:07:00   \n",
       "45319         11.0        23:14:00                2            23:14:00   \n",
       "45318          8.1        19:28:00                5            19:28:00   \n",
       "32502         10.9        18:01:00                2            18:01:00   \n",
       "40602          6.5        16:41:00                1            16:41:00   \n",
       "\n",
       "       Calculated Miles  Calculated KM  \n",
       "41186               0.0            0.0  \n",
       "45319               0.0            0.0  \n",
       "45318               0.0            0.0  \n",
       "32502               0.0            0.0  \n",
       "40602               0.0            0.0  "
      ]
     },
     "execution_count": 41,
     "metadata": {},
     "output_type": "execute_result"
    }
   ],
   "source": [
    "sorted_distance_km.head()"
   ]
  },
  {
   "cell_type": "code",
   "execution_count": 42,
   "id": "2092fa0c",
   "metadata": {},
   "outputs": [
    {
     "data": {
      "text/plain": [
       "Text(0, 0.5, 'Fare Amount')"
      ]
     },
     "execution_count": 42,
     "metadata": {},
     "output_type": "execute_result"
    },
    {
     "data": {
      "image/png": "[encoded data removed]",
      "text/plain": [
       "<Figure size 720x360 with 1 Axes>"
      ]
     },
     "metadata": {
      "needs_background": "light"
     },
     "output_type": "display_data"
    }
   ],
   "source": [
    "# Plotting ride distance and the fare amount\n",
    "plt.figure(figsize=(10,5))\n",
    "\n",
    "# Plot data\n",
    "plt.plot(sorted_distance_km['Calculated KM'], sorted_distance_km.fare_amount)\n",
    "\n",
    "# Graph labels\n",
    "plt.xlabel('Distance (km)')\n",
    "plt.ylabel('Fare Amount')"
   ]
  },
  {
   "cell_type": "markdown",
   "id": "e421b6af",
   "metadata": {},
   "source": [
    "We can see that, after ~50/25km the quality of the graph degrades, and I can't imagine there being many 100+ mile long journeys.\n",
    "\n",
    "Let's drop any ride which has a ride distance > 100 - to see if there's a difference."
   ]
  },
  {
   "cell_type": "code",
   "execution_count": 43,
   "id": "3ea6bbf2",
   "metadata": {},
   "outputs": [],
   "source": [
    "drop_extra_km = sorted_distance_km.loc[sorted_distance_km['Calculated KM'] > 25].index"
   ]
  },
  {
   "cell_type": "code",
   "execution_count": 44,
   "id": "c6ab5e16",
   "metadata": {},
   "outputs": [],
   "source": [
    "# Dropping those rows\n",
    "sorted_distance_km.drop(drop_extra_km, inplace=True)\n",
    "\n",
    "# Reset index\n",
    "sorted_distance_km.reset_index(drop=True, inplace=True)"
   ]
  },
  {
   "cell_type": "code",
   "execution_count": 45,
   "id": "5062e167",
   "metadata": {
    "scrolled": false
   },
   "outputs": [
    {
     "data": {
      "text/html": [
       "<div>\n",
       "<style scoped>\n",
       "    .dataframe tbody tr th:only-of-type {\n",
       "        vertical-align: middle;\n",
       "    }\n",
       "\n",
       "    .dataframe tbody tr th {\n",
       "        vertical-align: top;\n",
       "    }\n",
       "\n",
       "    .dataframe thead th {\n",
       "        text-align: right;\n",
       "    }\n",
       "</style>\n",
       "<table border=\"1\" class=\"dataframe\">\n",
       "  <thead>\n",
       "    <tr style=\"text-align: right;\">\n",
       "      <th></th>\n",
       "      <th>fare_amount</th>\n",
       "      <th>pickup_datetime</th>\n",
       "      <th>passenger_count</th>\n",
       "      <th>pickup_datetime_str</th>\n",
       "      <th>Calculated Miles</th>\n",
       "      <th>Calculated KM</th>\n",
       "    </tr>\n",
       "  </thead>\n",
       "  <tbody>\n",
       "    <tr>\n",
       "      <th>0</th>\n",
       "      <td>5.7</td>\n",
       "      <td>22:07:00</td>\n",
       "      <td>1</td>\n",
       "      <td>22:07:00</td>\n",
       "      <td>0.0</td>\n",
       "      <td>0.0</td>\n",
       "    </tr>\n",
       "    <tr>\n",
       "      <th>1</th>\n",
       "      <td>11.0</td>\n",
       "      <td>23:14:00</td>\n",
       "      <td>2</td>\n",
       "      <td>23:14:00</td>\n",
       "      <td>0.0</td>\n",
       "      <td>0.0</td>\n",
       "    </tr>\n",
       "    <tr>\n",
       "      <th>2</th>\n",
       "      <td>8.1</td>\n",
       "      <td>19:28:00</td>\n",
       "      <td>5</td>\n",
       "      <td>19:28:00</td>\n",
       "      <td>0.0</td>\n",
       "      <td>0.0</td>\n",
       "    </tr>\n",
       "    <tr>\n",
       "      <th>3</th>\n",
       "      <td>10.9</td>\n",
       "      <td>18:01:00</td>\n",
       "      <td>2</td>\n",
       "      <td>18:01:00</td>\n",
       "      <td>0.0</td>\n",
       "      <td>0.0</td>\n",
       "    </tr>\n",
       "    <tr>\n",
       "      <th>4</th>\n",
       "      <td>6.5</td>\n",
       "      <td>16:41:00</td>\n",
       "      <td>1</td>\n",
       "      <td>16:41:00</td>\n",
       "      <td>0.0</td>\n",
       "      <td>0.0</td>\n",
       "    </tr>\n",
       "  </tbody>\n",
       "</table>\n",
       "</div>"
      ],
      "text/plain": [
       "   fare_amount pickup_datetime  passenger_count pickup_datetime_str  \\\n",
       "0          5.7        22:07:00                1            22:07:00   \n",
       "1         11.0        23:14:00                2            23:14:00   \n",
       "2          8.1        19:28:00                5            19:28:00   \n",
       "3         10.9        18:01:00                2            18:01:00   \n",
       "4          6.5        16:41:00                1            16:41:00   \n",
       "\n",
       "   Calculated Miles  Calculated KM  \n",
       "0               0.0            0.0  \n",
       "1               0.0            0.0  \n",
       "2               0.0            0.0  \n",
       "3               0.0            0.0  \n",
       "4               0.0            0.0  "
      ]
     },
     "execution_count": 45,
     "metadata": {},
     "output_type": "execute_result"
    }
   ],
   "source": [
    "sorted_distance_km.head()"
   ]
  },
  {
   "cell_type": "code",
   "execution_count": 46,
   "id": "e5cb15be",
   "metadata": {},
   "outputs": [
    {
     "data": {
      "text/plain": [
       "Text(0, 0.5, 'Fare Amount')"
      ]
     },
     "execution_count": 46,
     "metadata": {},
     "output_type": "execute_result"
    },
    {
     "data": {
      "image/png": "[encoded data removed]",
      "text/plain": [
       "<Figure size 720x360 with 1 Axes>"
      ]
     },
     "metadata": {
      "needs_background": "light"
     },
     "output_type": "display_data"
    }
   ],
   "source": [
    "# Plotting ride distance and the fare amount\n",
    "plt.figure(figsize=(10,5))\n",
    "\n",
    "# Plot data\n",
    "plt.plot(sorted_distance_km['Calculated KM'], sorted_distance_km.fare_amount)\n",
    "\n",
    "# Graph labels\n",
    "plt.xlabel('Distance (km)')\n",
    "plt.ylabel('Fare Amount')"
   ]
  },
  {
   "cell_type": "markdown",
   "id": "59763245",
   "metadata": {},
   "source": [
    "As expected, the relation between the distance (km) and the fare amount is consistent until ~24km.\n",
    "\n",
    "The sorted KM data appears to have a *slighty* better trend against the end fare amount (due to more granularity).\n",
    "- So we'll go ahead and use the __sorted_distance_km__ dataset."
   ]
  },
  {
   "cell_type": "markdown",
   "id": "67c1f55d",
   "metadata": {},
   "source": [
    "## Data Processing (Final)"
   ]
  },
  {
   "cell_type": "code",
   "execution_count": 47,
   "id": "6056a4a8",
   "metadata": {},
   "outputs": [
    {
     "data": {
      "text/html": [
       "<div>\n",
       "<style scoped>\n",
       "    .dataframe tbody tr th:only-of-type {\n",
       "        vertical-align: middle;\n",
       "    }\n",
       "\n",
       "    .dataframe tbody tr th {\n",
       "        vertical-align: top;\n",
       "    }\n",
       "\n",
       "    .dataframe thead th {\n",
       "        text-align: right;\n",
       "    }\n",
       "</style>\n",
       "<table border=\"1\" class=\"dataframe\">\n",
       "  <thead>\n",
       "    <tr style=\"text-align: right;\">\n",
       "      <th></th>\n",
       "      <th>fare_amount</th>\n",
       "      <th>pickup_datetime</th>\n",
       "      <th>passenger_count</th>\n",
       "      <th>pickup_datetime_str</th>\n",
       "      <th>Calculated Miles</th>\n",
       "      <th>Calculated KM</th>\n",
       "    </tr>\n",
       "  </thead>\n",
       "  <tbody>\n",
       "    <tr>\n",
       "      <th>0</th>\n",
       "      <td>5.70</td>\n",
       "      <td>22:07:00</td>\n",
       "      <td>1</td>\n",
       "      <td>22:07:00</td>\n",
       "      <td>0.000000</td>\n",
       "      <td>0.000000</td>\n",
       "    </tr>\n",
       "    <tr>\n",
       "      <th>1</th>\n",
       "      <td>11.00</td>\n",
       "      <td>23:14:00</td>\n",
       "      <td>2</td>\n",
       "      <td>23:14:00</td>\n",
       "      <td>0.000000</td>\n",
       "      <td>0.000000</td>\n",
       "    </tr>\n",
       "    <tr>\n",
       "      <th>2</th>\n",
       "      <td>8.10</td>\n",
       "      <td>19:28:00</td>\n",
       "      <td>5</td>\n",
       "      <td>19:28:00</td>\n",
       "      <td>0.000000</td>\n",
       "      <td>0.000000</td>\n",
       "    </tr>\n",
       "    <tr>\n",
       "      <th>3</th>\n",
       "      <td>10.90</td>\n",
       "      <td>18:01:00</td>\n",
       "      <td>2</td>\n",
       "      <td>18:01:00</td>\n",
       "      <td>0.000000</td>\n",
       "      <td>0.000000</td>\n",
       "    </tr>\n",
       "    <tr>\n",
       "      <th>4</th>\n",
       "      <td>6.50</td>\n",
       "      <td>16:41:00</td>\n",
       "      <td>1</td>\n",
       "      <td>16:41:00</td>\n",
       "      <td>0.000000</td>\n",
       "      <td>0.000000</td>\n",
       "    </tr>\n",
       "    <tr>\n",
       "      <th>...</th>\n",
       "      <td>...</td>\n",
       "      <td>...</td>\n",
       "      <td>...</td>\n",
       "      <td>...</td>\n",
       "      <td>...</td>\n",
       "      <td>...</td>\n",
       "    </tr>\n",
       "    <tr>\n",
       "      <th>49829</th>\n",
       "      <td>57.33</td>\n",
       "      <td>19:26:00</td>\n",
       "      <td>3</td>\n",
       "      <td>19:26:00</td>\n",
       "      <td>15.009663</td>\n",
       "      <td>24.155711</td>\n",
       "    </tr>\n",
       "    <tr>\n",
       "      <th>49830</th>\n",
       "      <td>85.00</td>\n",
       "      <td>10:20:00</td>\n",
       "      <td>1</td>\n",
       "      <td>10:20:00</td>\n",
       "      <td>15.205276</td>\n",
       "      <td>24.470520</td>\n",
       "    </tr>\n",
       "    <tr>\n",
       "      <th>49831</th>\n",
       "      <td>53.30</td>\n",
       "      <td>04:49:00</td>\n",
       "      <td>6</td>\n",
       "      <td>04:49:00</td>\n",
       "      <td>15.240574</td>\n",
       "      <td>24.527327</td>\n",
       "    </tr>\n",
       "    <tr>\n",
       "      <th>49832</th>\n",
       "      <td>58.50</td>\n",
       "      <td>13:32:13</td>\n",
       "      <td>2</td>\n",
       "      <td>13:32:13</td>\n",
       "      <td>15.281431</td>\n",
       "      <td>24.593080</td>\n",
       "    </tr>\n",
       "    <tr>\n",
       "      <th>49833</th>\n",
       "      <td>105.33</td>\n",
       "      <td>22:39:09</td>\n",
       "      <td>1</td>\n",
       "      <td>22:39:09</td>\n",
       "      <td>15.383518</td>\n",
       "      <td>24.757373</td>\n",
       "    </tr>\n",
       "  </tbody>\n",
       "</table>\n",
       "<p>49834 rows × 6 columns</p>\n",
       "</div>"
      ],
      "text/plain": [
       "       fare_amount pickup_datetime  passenger_count pickup_datetime_str  \\\n",
       "0             5.70        22:07:00                1            22:07:00   \n",
       "1            11.00        23:14:00                2            23:14:00   \n",
       "2             8.10        19:28:00                5            19:28:00   \n",
       "3            10.90        18:01:00                2            18:01:00   \n",
       "4             6.50        16:41:00                1            16:41:00   \n",
       "...            ...             ...              ...                 ...   \n",
       "49829        57.33        19:26:00                3            19:26:00   \n",
       "49830        85.00        10:20:00                1            10:20:00   \n",
       "49831        53.30        04:49:00                6            04:49:00   \n",
       "49832        58.50        13:32:13                2            13:32:13   \n",
       "49833       105.33        22:39:09                1            22:39:09   \n",
       "\n",
       "       Calculated Miles  Calculated KM  \n",
       "0              0.000000       0.000000  \n",
       "1              0.000000       0.000000  \n",
       "2              0.000000       0.000000  \n",
       "3              0.000000       0.000000  \n",
       "4              0.000000       0.000000  \n",
       "...                 ...            ...  \n",
       "49829         15.009663      24.155711  \n",
       "49830         15.205276      24.470520  \n",
       "49831         15.240574      24.527327  \n",
       "49832         15.281431      24.593080  \n",
       "49833         15.383518      24.757373  \n",
       "\n",
       "[49834 rows x 6 columns]"
      ]
     },
     "execution_count": 47,
     "metadata": {},
     "output_type": "execute_result"
    }
   ],
   "source": [
    "# Our dataset that we're using\n",
    "sorted_distance_km"
   ]
  },
  {
   "cell_type": "code",
   "execution_count": 48,
   "id": "5a9f0f28",
   "metadata": {},
   "outputs": [],
   "source": [
    "#Let's sort this data by time (asc->desc)\n",
    "sorted_time_km = sorted_distance_km.sort_values(by='pickup_datetime_str')\n",
    "\n",
    "# Resetting index\n",
    "sorted_time_km.reset_index(drop=True, inplace=True)"
   ]
  },
  {
   "cell_type": "code",
   "execution_count": 49,
   "id": "1e465b73",
   "metadata": {},
   "outputs": [
    {
     "data": {
      "text/plain": [
       "Text(0, 0.5, 'Fare Amount')"
      ]
     },
     "execution_count": 49,
     "metadata": {},
     "output_type": "execute_result"
    },
    {
     "data": {
      "image/png": "[encoded data removed]",
      "text/plain": [
       "<Figure size 720x360 with 1 Axes>"
      ]
     },
     "metadata": {
      "needs_background": "light"
     },
     "output_type": "display_data"
    }
   ],
   "source": [
    "# Plotting passenger count agans fare amount \n",
    "plt.figure(figsize=(10,5))\n",
    "\n",
    "# Plotting data\n",
    "plt.plot(sorted_time_km.pickup_datetime_str, sorted_time_km.fare_amount)\n",
    "\n",
    "# Graph labels\n",
    "plt.xlabel('Time')\n",
    "plt.ylabel('Fare Amount')"
   ]
  },
  {
   "cell_type": "markdown",
   "id": "0144d4a2",
   "metadata": {},
   "source": [
    "## Model -  prep"
   ]
  },
  {
   "cell_type": "code",
   "execution_count": 50,
   "id": "38b9dee4",
   "metadata": {},
   "outputs": [
    {
     "data": {
      "text/html": [
       "<div>\n",
       "<style scoped>\n",
       "    .dataframe tbody tr th:only-of-type {\n",
       "        vertical-align: middle;\n",
       "    }\n",
       "\n",
       "    .dataframe tbody tr th {\n",
       "        vertical-align: top;\n",
       "    }\n",
       "\n",
       "    .dataframe thead th {\n",
       "        text-align: right;\n",
       "    }\n",
       "</style>\n",
       "<table border=\"1\" class=\"dataframe\">\n",
       "  <thead>\n",
       "    <tr style=\"text-align: right;\">\n",
       "      <th></th>\n",
       "      <th>Calculated KM</th>\n",
       "    </tr>\n",
       "  </thead>\n",
       "  <tbody>\n",
       "    <tr>\n",
       "      <th>49829</th>\n",
       "      <td>24.155711</td>\n",
       "    </tr>\n",
       "    <tr>\n",
       "      <th>49830</th>\n",
       "      <td>24.470520</td>\n",
       "    </tr>\n",
       "    <tr>\n",
       "      <th>49831</th>\n",
       "      <td>24.527327</td>\n",
       "    </tr>\n",
       "    <tr>\n",
       "      <th>49832</th>\n",
       "      <td>24.593080</td>\n",
       "    </tr>\n",
       "    <tr>\n",
       "      <th>49833</th>\n",
       "      <td>24.757373</td>\n",
       "    </tr>\n",
       "  </tbody>\n",
       "</table>\n",
       "</div>"
      ],
      "text/plain": [
       "       Calculated KM\n",
       "49829      24.155711\n",
       "49830      24.470520\n",
       "49831      24.527327\n",
       "49832      24.593080\n",
       "49833      24.757373"
      ]
     },
     "execution_count": 50,
     "metadata": {},
     "output_type": "execute_result"
    }
   ],
   "source": [
    "# Splitting data into features and target\n",
    "\n",
    "## Features\n",
    "x_feats = sorted_distance_km[['Calculated KM']]#, 'pickup_datetime_str']]\n",
    "    # Add pickup_datetime\n",
    "    \n",
    "# Target (Fare Amount)\n",
    "y_targs = sorted_distance_km[['fare_amount']]\n",
    "\n",
    "x_feats.tail()"
   ]
  },
  {
   "cell_type": "code",
   "execution_count": 67,
   "id": "0c8b6679",
   "metadata": {},
   "outputs": [],
   "source": [
    "# Splitting data into training and test sets\n",
    "x_train, x_test, y_train, y_test = train_test_split(x_feats, y_targs, test_size=0.2)"
   ]
  },
  {
   "cell_type": "markdown",
   "id": "32b6dcb3",
   "metadata": {},
   "source": [
    "## Model - fitting"
   ]
  },
  {
   "cell_type": "code",
   "execution_count": 68,
   "id": "d3a0c0a2",
   "metadata": {},
   "outputs": [],
   "source": [
    "# Calling regression model\n",
    "model = linear_model.LinearRegression()"
   ]
  },
  {
   "cell_type": "code",
   "execution_count": 69,
   "id": "4a2bcd6a",
   "metadata": {},
   "outputs": [
    {
     "data": {
      "text/plain": [
       "LinearRegression()"
      ]
     },
     "execution_count": 69,
     "metadata": {},
     "output_type": "execute_result"
    }
   ],
   "source": [
    "# Fit regression model\n",
    "model.fit(x_train, y_train)"
   ]
  },
  {
   "cell_type": "code",
   "execution_count": 70,
   "id": "1cadc2fc",
   "metadata": {},
   "outputs": [
    {
     "data": {
      "text/plain": [
       "0.7495307637919586"
      ]
     },
     "execution_count": 70,
     "metadata": {},
     "output_type": "execute_result"
    }
   ],
   "source": [
    "# Get score of model\n",
    "model.score(x_test, y_test)"
   ]
  },
  {
   "cell_type": "code",
   "execution_count": 71,
   "id": "50bcb490",
   "metadata": {},
   "outputs": [
    {
     "data": {
      "text/plain": [
       "array([[49.24383785]])"
      ]
     },
     "execution_count": 71,
     "metadata": {},
     "output_type": "execute_result"
    }
   ],
   "source": [
    "# Predict with rand. value\n",
    "model.predict([[20]])"
   ]
  },
  {
   "cell_type": "markdown",
   "id": "aa6d341c",
   "metadata": {},
   "source": [
    "A 20km ride would cost $49.28"
   ]
  },
  {
   "cell_type": "markdown",
   "id": "f9ade990",
   "metadata": {},
   "source": [
    "## Model - visualised"
   ]
  },
  {
   "cell_type": "code",
   "execution_count": 72,
   "id": "d476f6e3",
   "metadata": {
    "scrolled": false
   },
   "outputs": [
    {
     "data": {
      "text/plain": [
       "<matplotlib.legend.Legend at 0x1a0eb8d6dc0>"
      ]
     },
     "execution_count": 72,
     "metadata": {},
     "output_type": "execute_result"
    },
    {
     "data": {
      "image/png": "[encoded data removed]",
      "text/plain": [
       "<Figure size 1080x720 with 1 Axes>"
      ]
     },
     "metadata": {
      "needs_background": "light"
     },
     "output_type": "display_data"
    }
   ],
   "source": [
    "# Plotting LR line against the datapoints\n",
    "plt.figure(figsize=(15,10))\n",
    "\n",
    "# Plot data - distance vs. fare\n",
    "plt.plot(sorted_distance_km['Calculated KM'], sorted_distance_km.fare_amount, label='Kilometer')\n",
    "\n",
    "# Plot data - OLS line\n",
    "plt.plot(sorted_distance_km['Calculated KM'], model.predict(x_feats), color='black', label='OLS')\n",
    "\n",
    "# Set plot labels\n",
    "plt.xlabel('Kilometers')\n",
    "plt.ylabel('Fare Amount ($)')\n",
    "\n",
    "# Show plot labels\n",
    "plt.legend()"
   ]
  }
 ],
 "metadata": {
  "kernelspec": {
   "display_name": "Python 3 (ipykernel)",
   "language": "python",
   "name": "python3"
  },
  "language_info": {
   "codemirror_mode": {
    "name": "ipython",
    "version": 3
   },
   "file_extension": ".py",
   "mimetype": "text/x-python",
   "name": "python",
   "nbconvert_exporter": "python",
   "pygments_lexer": "ipython3",
   "version": "3.9.7"
  }
 },
 "nbformat": 4,
 "nbformat_minor": 5
}
